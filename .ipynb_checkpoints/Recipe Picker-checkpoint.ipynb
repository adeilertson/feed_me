{
 "cells": [
  {
   "cell_type": "markdown",
   "metadata": {},
   "source": [
    "# Project Outline\n",
    "Basic Elements\n",
    "- Interface to input specifics and recieve a matching recipe, with option to cycle through matching recipes.\n",
    "- Process to add new recipes\n",
    "- Testing process\n",
    "\n",
    "# Notes\n",
    "\n",
    "- System setup to consume Food Network recipe URLs and convert them\n",
    "    - Needs additional processing to determing cuisine, method, and dish\n",
    "        - Dish only needs to be converted to desired standard\n",
    "        - Cuisine and method:\n",
    "            - Build keyword lists for each that are common and distinct to create reasonable classifications\n",
    "            - Cuisine:\n",
    "                - Tuscan to Italian\n",
    "            - Method:\n",
    "                - Grill/Grilled/Grilling to Grill\n",
    "                - Crock-Pot to Crock-Pot\n",
    "                "
   ]
  },
  {
   "cell_type": "markdown",
   "metadata": {},
   "source": [
    "# Structure\n",
    "- Data\n",
    "    - Recipes list\n",
    "        - List of dicts\n",
    "        - Each entry contains specifices of a recipe\n",
    "        - Including: name, cuisine, method, dish, season, chef, yeild, url, ingredients, and instructions\n",
    "    - Dish conversion referecen dict\n",
    "        - Dict\n",
    "        - Each entry contains a variation as key, and standard dish as value\n",
    "    - Cuisine conversion reference dict\n",
    "        - Dict\n",
    "        - Each entry contains a variation as key, and standard cuisine as value\n",
    "    - Method finding referrence dict\n",
    "        - Dict\n",
    "        - Each entry contains a variation as key, and standard method as value\n",
    "- Implementation details\n",
    "    - Import recipes list using pickle to allow for adding new entries while running\n",
    "    - Recipe Selction\n",
    "        - List options or examples for each catagory\n",
    "        - Go through each catagory and have user either select from options or enter desired term\n",
    "        - Have user submit search\n",
    "        - Display result\n",
    "        - Option to select another matching recipe\n",
    "        - Question - Display just recipe name OR display recipe and ingredients OR display recipe and all assocaited info, specifically instructions\n",
    "    - Adding Recipes\n",
    "        - Provide list of known suitable web sources that can be parsed\n",
    "        - Allow for manual entry"
   ]
  },
  {
   "cell_type": "markdown",
   "metadata": {},
   "source": [
    "# Possible Additions\n",
    "- Display number of matching options with current selections (would require more dynamic option selection, potentially with GUI)\n",
    "- "
   ]
  },
  {
   "cell_type": "markdown",
   "metadata": {},
   "source": [
    "# Tasks\n",
    "To Do:\n",
    "- Add screen reset function\n",
    "    - Clear screen\n",
    "    - Reprint header\n",
    "        - Also, create header\n",
    "- Expand Cuisine Conversion Reference dict\n",
    "- Expand Method Finder Dict\n",
    "- Finalize Recipe dict entries\n",
    "- Bulk up Recipe list\n",
    "- Build recipe adding process\n",
    "- Check other common recipe sites that use similar structure\n",
    "- Determine if source sepcific new_recipe functions are needed\n",
    "    - Food Network and BA differ slightly, but can be accounted for, unless multiple sites differ slightly, then use unqiue functions\n",
    "    - Add delish example, then examine differences between verisons\n",
    "- Continue building implementation\n",
    "    - Main Menu\n",
    "    - Find Recipe (Done)\n",
    "    - Add Recipe\n",
    "\n",
    "Done:\n",
    "- Determine desired method for get_matching_recipes to use and normalize search_terms\n",
    "- Implement searching for multiple ingredients\n",
    "- Basic Find Recipe process complete"
   ]
  },
  {
   "cell_type": "markdown",
   "metadata": {},
   "source": [
    "# Imports"
   ]
  },
  {
   "cell_type": "code",
   "execution_count": 1,
   "metadata": {
    "ExecuteTime": {
     "end_time": "2020-07-12T02:55:11.434699Z",
     "start_time": "2020-07-12T02:55:10.456768Z"
    }
   },
   "outputs": [],
   "source": [
    "import os\n",
    "import json\n",
    "import random\n",
    "import string\n",
    "import requests\n",
    "import pickle\n",
    "from bs4 import BeautifulSoup"
   ]
  },
  {
   "cell_type": "code",
   "execution_count": 2,
   "metadata": {
    "ExecuteTime": {
     "end_time": "2020-07-12T02:55:11.441694Z",
     "start_time": "2020-07-12T02:55:11.437696Z"
    }
   },
   "outputs": [],
   "source": [
    "digits = string.digits"
   ]
  },
  {
   "cell_type": "markdown",
   "metadata": {},
   "source": [
    "# Support Functions"
   ]
  },
  {
   "cell_type": "code",
   "execution_count": 29,
   "metadata": {
    "ExecuteTime": {
     "end_time": "2020-07-12T03:27:07.170503Z",
     "start_time": "2020-07-12T03:27:07.150514Z"
    }
   },
   "outputs": [],
   "source": [
    "def save_obj(obj, filename):\n",
    "    with open(f'data/{filename}.pkl', 'wb') as file:\n",
    "        pickle.dump(obj, file)\n",
    "    \n",
    "def load_obj(filename):\n",
    "    with open(f'data/{filename}.pkl', 'rb') as file:\n",
    "        data = pickle.load(file)\n",
    "    return data\n",
    "\n",
    "def import_recipes():\n",
    "    with open(f'data/recipes.pkl', 'rb') as file:\n",
    "        data = pickle.load(file)\n",
    "    return data\n",
    "\n",
    "def screen_reset():\n",
    "    # Clear screen\n",
    "    os.system('cls')\n",
    "    # Print header\n",
    "    print(\"\"\"\n",
    "    ______              __   __  ___     __\n",
    "   / ____/__  ___  ____/ /  /  |/  /__  / /\n",
    "  / /_  / _ \\/ _ \\/ __  /  / /|_/ / _ \\/ / \n",
    " / __/ /  __/  __/ /_/ /  / /  / /  __/_/  \n",
    "/_/    \\___/\\___/\\__,_/  /_/  /_/\\___(_)   \n",
    "    \"\"\")\n",
    "\n",
    "    \n",
    "def recipe_source(url):\n",
    "    \"\"\"Determine if URL is from known source. Returns source or 'unkown'\"\"\"\n",
    "    \n",
    "    # Get base url\n",
    "    base_url = url.split('/')[2]\n",
    "    \n",
    "    # Check if base url in known sources\n",
    "    if base_url in known_sources.keys():\n",
    "        source = known_sources[base_url]\n",
    "    else:\n",
    "        source = 'unknown'\n",
    "        \n",
    "    return(source)\n",
    "\n",
    "\n",
    "def display_recipe(recipe):\n",
    "    display_ingredients = '\\n'.join(recipe['ingredients'])\n",
    "    print(f\"\"\"\n",
    "{recipe['name']}\n",
    "Author - {recipe['chef']}\n",
    "Yeild - {recipe['yeild']}\n",
    "\n",
    "Ingredients:\n",
    "{display_ingredients}\n",
    "    \"\"\")\n",
    "    \n",
    "\n",
    "def get_matching_recipes(recipes, name='none', cuisine='none', method='none', dish='none', season='none', ingredients=['none']):\n",
    "    \"\"\"Return list of recipes matching provided criteria from provided list of recipes\"\"\"\n",
    "    \n",
    "    return_recipes = []\n",
    "    \n",
    "    for recipe in recipes:\n",
    "        criteria = [\n",
    "            name in recipe['name'].lower() or name == 'none',\n",
    "            cuisine == recipe['cuisine'] or cuisine == 'none',\n",
    "            method == recipe['method'] or method == 'none',\n",
    "            dish == recipe['dish'] or dish == 'none',\n",
    "            season in recipe['season'] or season == 'none',\n",
    "            any(item.title() in recipe['ingredients'] for item in ingredients) or ingredients == ['none'],\n",
    "        ]\n",
    "        \n",
    "        if all(criteria):\n",
    "            return_recipes.append(recipe)\n",
    "            \n",
    "    return return_recipes"
   ]
  },
  {
   "cell_type": "code",
   "execution_count": null,
   "metadata": {},
   "outputs": [],
   "source": [
    "[ x for x in range(20) if x % 2 == 0]\n",
    "[i for i in sentence if i in 'aeiou']\n",
    "[ x % 2 == 0 for x in t_f_list]\n",
    "[ if ing.title() in recipe['ingredients'] for ing in ingredients]\n",
    "\n",
    "[ing for ing in ingredients if ing.title() in recipe['ingredients']]"
   ]
  },
  {
   "cell_type": "code",
   "execution_count": 22,
   "metadata": {
    "ExecuteTime": {
     "end_time": "2020-06-30T01:26:57.050259Z",
     "start_time": "2020-06-30T01:26:57.041261Z"
    }
   },
   "outputs": [
    {
     "data": {
      "text/plain": [
       "True"
      ]
     },
     "execution_count": 22,
     "metadata": {},
     "output_type": "execute_result"
    }
   ],
   "source": [
    "recipe_t = {'ingredients': 'Apple'}\n",
    "ingredients_t = ['apple', 'sauce']\n",
    "#[ing for ing in ingredients_t if ing.title() in recipe_t['ingredients']]\n",
    "any(item.title() in recipe_t['ingredients'] for item in ingredients_t)"
   ]
  },
  {
   "cell_type": "markdown",
   "metadata": {},
   "source": [
    "# Reference Data"
   ]
  },
  {
   "cell_type": "code",
   "execution_count": 4,
   "metadata": {
    "ExecuteTime": {
     "end_time": "2020-07-12T02:55:18.404508Z",
     "start_time": "2020-07-12T02:55:18.392517Z"
    }
   },
   "outputs": [],
   "source": [
    "known_sources = {\n",
    "    'www.foodnetwork.com': 'food_network',\n",
    "    'www.bonappetit.com': 'bon_appetit',\n",
    "    'www.saltandlavender.com': 'salt_and_lavender',\n",
    "    'www.delish.com': 'delish',\n",
    "    'www.macheesemo.com': 'macheesemo'\n",
    "}\n",
    "\n",
    "dish_refs = {\n",
    "    'main-dish': 'main',\n",
    "    'Main Course': 'main',\n",
    "    'side-dish': 'side',\n",
    "}\n",
    "\n",
    "cuisine_refs = {\n",
    "    'tuscan': 'italian'\n",
    "}\n",
    "\n",
    "method_refs = {\n",
    "    'grill': 'grill',\n",
    "    'crock pot': 'crock-pot',\n",
    "    'crock-pot': 'crock-pot',\n",
    "    'slow cooker': 'crock-pot',\n",
    "    'slow-cooker': 'crock-pot',\n",
    "    'slowcooker': 'crock-pot',\n",
    "}\n",
    "\n",
    "blank_recipe = {\n",
    "    'name': '',\n",
    "    'cuisine': '',\n",
    "    'method': '',\n",
    "    'dish': '',\n",
    "    'season': '',\n",
    "    'chef': '',\n",
    "    'yeild': 0,\n",
    "    'url': '',\n",
    "    'ingredients': [],\n",
    "    'instructions': []\n",
    "}"
   ]
  },
  {
   "cell_type": "markdown",
   "metadata": {},
   "source": [
    "# Recipe List"
   ]
  },
  {
   "cell_type": "code",
   "execution_count": 5,
   "metadata": {
    "ExecuteTime": {
     "end_time": "2020-07-12T02:55:20.062948Z",
     "start_time": "2020-07-12T02:55:20.047957Z"
    }
   },
   "outputs": [],
   "source": [
    "recipes = [\n",
    "    {\n",
    "        'name': '',\n",
    "        'cuisine': '',\n",
    "        'method': '',\n",
    "        'dish': '',\n",
    "        'season': '',\n",
    "        'chef': '',\n",
    "        'yeild': 0,\n",
    "        'url': '',\n",
    "        'ingredients': [],\n",
    "        'instructions': []\n",
    "    },\n",
    "    {\n",
    "        'name': 'Garlic Pepper Shrimp',\n",
    "        'cuisine': '',\n",
    "        'method': 'grill',\n",
    "        'dish': 'main',\n",
    "        'chef': '',\n",
    "        'yeild': 0,\n",
    "        'url': '',\n",
    "        'season': ['summer'],\n",
    "        'ingredients': [\n",
    "            'Shrimp',\n",
    "            'Garlic',\n",
    "            'Red Chili (Fresno)',\n",
    "            'Lime'\n",
    "        ],\n",
    "        'instructions': []\n",
    "    },\n",
    "    {\n",
    "        'name': 'Grilled Steak',\n",
    "        'cuisine': 'american',\n",
    "        'method': 'grill',\n",
    "        'dish': 'main',\n",
    "        'season': 'summer',\n",
    "        'chef': '',\n",
    "        'yeild': 0,\n",
    "        'url': '',\n",
    "        'ingredients': ['Steak'],\n",
    "        'instructions': []\n",
    "    },\n",
    "    {\n",
    "        'name': 'Crock Pot Roast',\n",
    "        'cuisine': 'comfort',\n",
    "        'method': 'crock_pot',\n",
    "        'dish': 'complete',\n",
    "        'season': ['fall', 'winter'],\n",
    "        'chef': '',\n",
    "        'yeild': 0,\n",
    "        'url': '',\n",
    "        'ingredients': [\n",
    "            'Beef Roast',\n",
    "            'Potatoes',\n",
    "            'Carrots',\n",
    "            'Stock',\n",
    "            'Butter',\n",
    "        ],\n",
    "        'instructions': []\n",
    "    },\n",
    "    {\n",
    "        'name': '',\n",
    "        'cuisine': '',\n",
    "        'method': '',\n",
    "        'dish': '',\n",
    "        'season': '',\n",
    "        'chef': '',\n",
    "        'yeild': 0,\n",
    "        'url': '',\n",
    "        'ingredients': [],\n",
    "        'instructions': []\n",
    "    }\n",
    "]"
   ]
  },
  {
   "cell_type": "code",
   "execution_count": 26,
   "metadata": {
    "ExecuteTime": {
     "end_time": "2020-06-30T01:27:53.685864Z",
     "start_time": "2020-06-30T01:27:53.681866Z"
    }
   },
   "outputs": [],
   "source": [
    "eligible_recipies = get_matching_recipes(recipes=recipes, ingredients=['shrimp'])"
   ]
  },
  {
   "cell_type": "code",
   "execution_count": 29,
   "metadata": {
    "ExecuteTime": {
     "end_time": "2020-06-30T02:01:05.706993Z",
     "start_time": "2020-06-30T02:01:05.699999Z"
    }
   },
   "outputs": [
    {
     "data": {
      "text/plain": [
       "[{'name': 'Garlic Pepper Shrimp',\n",
       "  'cuisine': '',\n",
       "  'method': 'grill',\n",
       "  'dish': 'main',\n",
       "  'chef': '',\n",
       "  'yeild': 0,\n",
       "  'url': '',\n",
       "  'season': ['summer'],\n",
       "  'ingredients': ['Shrimp', 'Garlic', 'Red Chili (Fresno)', 'Lime'],\n",
       "  'instructions': []}]"
      ]
     },
     "execution_count": 29,
     "metadata": {},
     "output_type": "execute_result"
    }
   ],
   "source": [
    "eligible_recipies"
   ]
  },
  {
   "cell_type": "code",
   "execution_count": 33,
   "metadata": {
    "ExecuteTime": {
     "end_time": "2020-06-30T02:01:50.870302Z",
     "start_time": "2020-06-30T02:01:50.863306Z"
    }
   },
   "outputs": [],
   "source": []
  },
  {
   "cell_type": "code",
   "execution_count": 34,
   "metadata": {
    "ExecuteTime": {
     "end_time": "2020-06-30T02:01:51.177307Z",
     "start_time": "2020-06-30T02:01:51.172309Z"
    }
   },
   "outputs": [
    {
     "name": "stdout",
     "output_type": "stream",
     "text": [
      "\n",
      "Garlic Pepper Shrimp\n",
      "Author - \n",
      "Yeild - 0\n",
      "\n",
      "Ingredients:\n",
      "Shrimp\n",
      "Garlic\n",
      "Red Chili (Fresno)\n",
      "Lime\n",
      "    \n"
     ]
    }
   ],
   "source": [
    "display_recipe(random.choice(eligible_recipies))"
   ]
  },
  {
   "cell_type": "markdown",
   "metadata": {},
   "source": [
    "# Adding Recipe from URL\n",
    "\n",
    "- Food Network Test URL - https://www.foodnetwork.com/recipes/ina-garten/tuscan-lemon-chicken-recipe-1943286\n",
    "- Bon Appetit Test URL - https://www.bonappetit.com/recipe/grilled-garlic-and-black-pepper-shrimp\n",
    "- Salt and Lavendar Test URL - https://www.saltandlavender.com/creamy-garlic-chicken/\n",
    "- Delish Test URL - https://www.delish.com/cooking/recipe-ideas/recipes/a46066/slow-cooker-garlic-parmesan-chicken-recipe/\n",
    "- Macheesemo Test URL - https://www.macheesmo.com/meatless-meatballs/"
   ]
  },
  {
   "cell_type": "code",
   "execution_count": 15,
   "metadata": {
    "ExecuteTime": {
     "end_time": "2020-07-12T03:11:44.253377Z",
     "start_time": "2020-07-12T03:11:44.249379Z"
    }
   },
   "outputs": [],
   "source": [
    "# Food network\n",
    "fn_test_url = 'https://www.foodnetwork.com/recipes/ina-garten/tuscan-lemon-chicken-recipe-1943286'\n",
    "# Bon Apetit\n",
    "ba_test_url = 'https://www.bonappetit.com/recipe/grilled-garlic-and-black-pepper-shrimp'\n",
    "# Salt and Lavendar\n",
    "sl_test_url = 'https://www.saltandlavender.com/creamy-garlic-chicken/'\n",
    "# Delish\n",
    "dl_test_url = 'https://www.delish.com/cooking/recipe-ideas/recipes/a46066/slow-cooker-garlic-parmesan-chicken-recipe/'\n",
    "# Macheesemo\n",
    "mc_test_url = 'https://www.macheesmo.com/meatless-meatballs/'"
   ]
  },
  {
   "cell_type": "markdown",
   "metadata": {},
   "source": [
    "## All Purpose New Recipe"
   ]
  },
  {
   "cell_type": "code",
   "execution_count": 23,
   "metadata": {
    "ExecuteTime": {
     "end_time": "2020-07-12T03:15:35.550065Z",
     "start_time": "2020-07-12T03:15:35.527078Z"
    }
   },
   "outputs": [],
   "source": [
    "def new_recipe_builder(url='', source=''):\n",
    "    \"\"\"\n",
    "    Build new recipe dictionary from compatiable URL.\n",
    "\n",
    "            Parameters:\n",
    "                    url (str): URL of recipe to be converted\n",
    "                    source (str): Source of the URL from known sources\n",
    "\n",
    "            Returns:\n",
    "                    new_recipe (dict): Dictionary formatted to be added to recipe list\n",
    "\n",
    "    \"\"\"\n",
    "    \n",
    "    # Get page response via requests\n",
    "    res = requests.get(url)\n",
    "    # Parse response via beautiful soup\n",
    "    soup = BeautifulSoup(res.text, 'html.parser')\n",
    "    \n",
    "    # Set exact recipe data from data element based on source\n",
    "    if source == 'food_network':\n",
    "        recipe_data = json.loads(soup.find('script', type='application/ld+json').text)[0]\n",
    "    elif source == 'salt_and_lavender':\n",
    "        recipe_data = json.loads(soup.find('script', type='application/ld+json').text)['@graph'][7]\n",
    "    elif source == 'macheesemo':\n",
    "        recipe_data = json.loads(soup.find_all('script', type='application/ld+json')[1].text)\n",
    "    elif source in ['delish', 'bon_appetit']:\n",
    "        recipe_data = json.loads(soup.find('script', type='application/ld+json').text)\n",
    "\n",
    "    # Set recipe items\n",
    "    \n",
    "    # Set empty recipe dict\n",
    "    new_recipe = {}\n",
    "    # Set recipe name\n",
    "    new_recipe['name'] = recipe_data['name']\n",
    "    # Set recipe URL\n",
    "    new_recipe['url'] = url\n",
    "    # Set recipe ingredients\n",
    "    new_recipe['ingredients'] = recipe_data['recipeIngredient']\n",
    "    # Set recipe instructions\n",
    "    new_recipe['instructions'] = recipe_data['recipeInstructions']\n",
    "    #Set recipe yeild\n",
    "    new_recipe['yeild'] = recipe_data['recipeYield']\n",
    "    \n",
    "    # Set recipe chef based on source\n",
    "    if source == 'food_network':\n",
    "        # Food Network chef\n",
    "        new_recipe['chef'] = recipe_data['author'][0]['name']\n",
    "    elif source in ['delish', 'salt_and_lavender', 'bon_appetit', 'macheesemo']:\n",
    "        # All other defined sources\n",
    "        new_recipe['chef'] = recipe_data['author']['name']\n",
    "    \n",
    "    # Set dish type from category based on source\n",
    "    if 'recipeCategory' in recipe_data.keys():\n",
    "        if source in ['food_network', 'bon_appetit', 'macheesemo']:\n",
    "            if recipe_data['recipeCategory'] in dish_refs.keys():\n",
    "                new_recipe['dish'] = dish_refs[recipe_data['recipeCategory']]\n",
    "        elif source in ['delish', 'salt_and_lavender']:\n",
    "            if recipe_data['recipeCategory'][0] in dish_refs.keys():\n",
    "                new_recipe['dish'] = dish_refs[recipe_data['recipeCategory'][0]]\n",
    "    else:\n",
    "        new_recipe['dish'] = ''\n",
    "        \n",
    "    # Set cusine based on recipe name\n",
    "    for cuisine_var, cuisine_std in cuisine_refs.items():\n",
    "        if cuisine_var in new_recipe['name'].lower():\n",
    "            new_recipe['cuisine'] = cuisine_std\n",
    "            break\n",
    "    else:\n",
    "        new_recipe['cuisine'] = ''\n",
    "        \n",
    "    # Set method based on recipe name\n",
    "    for method_var, method_std in method_refs.items():\n",
    "        if method_var in new_recipe['name'].lower():\n",
    "            new_recipe['method'] = method_std\n",
    "            break\n",
    "    else:\n",
    "        new_recipe['method'] = ''\n",
    "        \n",
    "    return(new_recipe)"
   ]
  },
  {
   "cell_type": "code",
   "execution_count": 24,
   "metadata": {
    "ExecuteTime": {
     "end_time": "2020-07-12T03:15:41.631265Z",
     "start_time": "2020-07-12T03:15:41.235427Z"
    }
   },
   "outputs": [
    {
     "name": "stdout",
     "output_type": "stream",
     "text": [
      "name Tuscan Lemon Chicken\n",
      "url https://www.foodnetwork.com/recipes/ina-garten/tuscan-lemon-chicken-recipe-1943286\n",
      "ingredients ['1 (3 1/2-pound) chicken, flattened', 'Kosher salt', '1/3 cup good olive oil', '2 teaspoons grated lemon zest (2 lemons)', '1/3 cup freshly squeezed lemon juice', '1 tablespoon minced garlic (3 cloves)', '1 tablespoon minced fresh rosemary leaves', 'Freshly ground black pepper', '1 lemon, halved']\n",
      "instructions [{'@type': 'HowToStep', 'text': 'Sprinkle the chicken with 1 teaspoon salt on each side. Combine the olive oil, lemon zest, lemon juice, garlic, rosemary, and 2 teaspoons pepper in a small measuring cup. Place the chicken in a ceramic or glass dish just large enough to hold it flat. Pour the lemon marinade over the chicken, turning it in the dish. Cover the dish with plastic wrap and refrigerate for at least 4 hours or overnight. Turn the chicken 2 or 3 times while marinating.'}, {'@type': 'HowToStep', 'text': 'When ready to grill, prepare a hot charcoal fire on 1 side of a grill (or turn a gas grill on low heat). Spread 1/4 of the coals across the other side of the grill. Place the chicken on the cooler side, skin side up, and weigh it down with the dish you used for marinating. Cook for 12 to 15 minutes, until the underside is golden brown. Turn the chicken skin side down, weight again with the dish, and cook for another 12 to 15 minutes, until the skin is golden brown and the chicken is cooked through. Place the lemon halves on the cool side of the grill, cut side down for the last 10 minutes of cooking. Remove the chicken to a plate or cutting board, cover with aluminum foil, and allow to rest for 5 minutes. Cut in quarters, sprinkle with salt, and serve with the grilled lemon halves.'}]\n",
      "yeild 2 to 3 servings\n",
      "chef Ina Garten\n",
      "dish main\n",
      "cuisine italian\n",
      "method \n"
     ]
    }
   ],
   "source": [
    "# Food network\n",
    "url = ''\n",
    "new_recipe = new_recipe_builder(fn_test_url, 'food_network')\n",
    "\n",
    "for key, val, in new_recipe.items():\n",
    "    print(key, val)"
   ]
  },
  {
   "cell_type": "code",
   "execution_count": 25,
   "metadata": {
    "ExecuteTime": {
     "end_time": "2020-07-12T03:15:44.819834Z",
     "start_time": "2020-07-12T03:15:44.462722Z"
    }
   },
   "outputs": [
    {
     "name": "stdout",
     "output_type": "stream",
     "text": [
      "name Grilled Garlic-and-Black-Pepper Shrimp\n",
      "url https://www.bonappetit.com/recipe/grilled-garlic-and-black-pepper-shrimp\n",
      "ingredients ['1 fresh red chile (such as Fresno), seeds removed, finely grated', '3 garlic cloves, finely grated', '1 tablespoon coarsely ground pepper', '1 tablespoon fresh lime juice', '2 tablespoons vegetable oil, plus more for grill', '1 pound large shrimp, peeled, deveined', 'Kosher salt', 'Lime wedges and Kashmiri chili powder or paprika (for serving)', 'Four 8-inch-long metal skewers or bamboo skewers soaked 30 minutes in water']\n",
      "instructions [{'@type': 'HowToStep', 'text': 'Whisk chile, garlic, pepper, lime juice, and 2 Tbsp. oil in a large bowl. Add shrimp and toss to coat; season with salt. Thread shrimp onto sets of 2 skewers.'}, {'@type': 'HowToStep', 'text': 'Prepare a grill for medium-high heat; clean grates well, then oil. Grill shrimp, turning once, until cooked through and lightly charred, about 5 minutes total. Serve with lime wedges dipped in chili powder.'}]\n",
      "yeild 4 servings\n",
      "chef \n",
      "dish \n",
      "cuisine \n",
      "method grill\n"
     ]
    }
   ],
   "source": [
    "# Bon Appetit\n",
    "url = ''\n",
    "new_recipe = new_recipe_builder(ba_test_url, 'bon_appetit')\n",
    "\n",
    "for key, val, in new_recipe.items():\n",
    "    print(key, val)"
   ]
  },
  {
   "cell_type": "code",
   "execution_count": 26,
   "metadata": {
    "ExecuteTime": {
     "end_time": "2020-07-12T03:15:53.843240Z",
     "start_time": "2020-07-12T03:15:46.695013Z"
    }
   },
   "outputs": [
    {
     "name": "stdout",
     "output_type": "stream",
     "text": [
      "name Creamy Garlic Chicken\n",
      "url https://www.saltandlavender.com/creamy-garlic-chicken/\n",
      "ingredients ['2 large chicken breasts (cut in half lengthwise)', 'Flour (for dredging)', '1 tablespoon olive oil', '2 tablespoons butter (divided)', '1 whole head garlic (cloves peeled)', '1/2 cup chicken broth or stock', '1/2 teaspoon lemon juice', '1/4 teaspoon garlic powder', '1 cup heavy/whipping cream', 'Salt &amp; pepper  (to taste)', 'Parsley (chopped (optional))']\n",
      "instructions [{'@type': 'HowToStep', 'text': 'Cut the chicken in half lengthwise so you have 4 smaller cutlets. Sprinkle them with some salt &amp; pepper and coat them in the flour.&nbsp;', 'name': 'Cut the chicken in half lengthwise so you have 4 smaller cutlets. Sprinkle them with some salt &amp; pepper and coat them in the flour.&nbsp;', 'url': 'https://www.saltandlavender.com/creamy-garlic-chicken/#wprm-recipe-22361-step-0-0'}, {'@type': 'HowToStep', 'text': \"Add the olive oil and 1 tbsp of the butter to a skillet over medium-high heat. Once the pan is hot, sauté the chicken for 4-5 minutes/side or until it's nice and golden. Take the chicken out of the pan and set it aside.\", 'name': \"Add the olive oil and 1 tbsp of the butter to a skillet over medium-high heat. Once the pan is hot, sauté the chicken for 4-5 minutes/side or until it's nice and golden. Take the chicken out of the pan and set it aside.\", 'url': 'https://www.saltandlavender.com/creamy-garlic-chicken/#wprm-recipe-22361-step-0-1'}, {'@type': 'HowToStep', 'text': \"Reduce the heat to medium (or even med-low if using cast iron), and add the rest of the butter to the pan. Let it melt and then add the garlic cloves. Cook them for 3-4 minutes, stirring often, until they're lightly browned on the outside.&nbsp;\", 'name': \"Reduce the heat to medium (or even med-low if using cast iron), and add the rest of the butter to the pan. Let it melt and then add the garlic cloves. Cook them for 3-4 minutes, stirring often, until they're lightly browned on the outside.&nbsp;\", 'url': 'https://www.saltandlavender.com/creamy-garlic-chicken/#wprm-recipe-22361-step-0-2'}, {'@type': 'HowToStep', 'text': 'Add the chicken broth, lemon juice, and garlic powder to the pan. Let it bubble for around 4 minutes or until the liquid is noticeably reduced.&nbsp;', 'name': 'Add the chicken broth, lemon juice, and garlic powder to the pan. Let it bubble for around 4 minutes or until the liquid is noticeably reduced.&nbsp;', 'url': 'https://www.saltandlavender.com/creamy-garlic-chicken/#wprm-recipe-22361-step-0-3'}, {'@type': 'HowToStep', 'text': 'Stir in the cream and add the chicken back into the pan. Let it cook for another 5 minutes or so, until the sauce is reduced and the chicken is cooked through. Serve with freshly chopped parsley if you wish.', 'name': 'Stir in the cream and add the chicken back into the pan. Let it cook for another 5 minutes or so, until the sauce is reduced and the chicken is cooked through. Serve with freshly chopped parsley if you wish.', 'url': 'https://www.saltandlavender.com/creamy-garlic-chicken/#wprm-recipe-22361-step-0-4'}]\n",
      "yeild ['4']\n",
      "chef Natasha Bull\n",
      "dish main\n",
      "cuisine \n",
      "method \n"
     ]
    }
   ],
   "source": [
    "# Salt and Lavender\n",
    "url = ''\n",
    "new_recipe = new_recipe_builder(sl_test_url, 'salt_and_lavender')\n",
    "\n",
    "for key, val, in new_recipe.items():\n",
    "    print(key, val)"
   ]
  },
  {
   "cell_type": "code",
   "execution_count": 27,
   "metadata": {
    "ExecuteTime": {
     "end_time": "2020-07-12T03:16:42.947360Z",
     "start_time": "2020-07-12T03:16:42.609435Z"
    }
   },
   "outputs": [
    {
     "name": "stdout",
     "output_type": "stream",
     "text": [
      "name Slow-Cooker Garlic-Parmesan Chicken\n",
      "url https://www.delish.com/cooking/recipe-ideas/recipes/a46066/slow-cooker-garlic-parmesan-chicken-recipe/\n",
      "ingredients ['3 tbsp. <p>extra-virgin olive oil, divided</p>', '2 lb. <p>bone-in, skin-on&nbsp;chicken thighs</p>', '<p>Kosher salt</p>', '<p>Freshly ground black pepper</p>', '1 lb. <p>baby red potatoes, quartered</p>', '2 tbsp. <p>butter, softened</p>', '5 <p>cloves garlic, chopped</p>', '2 tbsp. <p>fresh thyme</p>', '<p>Freshly chopped parsley</p>', '2 tbsp. <p>freshly grated Parmesan, plus more for serving</p>']\n",
      "instructions Garnish with Parmesan before serving.\n",
      "yeild 4 servings\n",
      "chef Lindsay Funston\n",
      "cuisine \n",
      "method crock-pot\n"
     ]
    }
   ],
   "source": [
    "# Delish\n",
    "url = ''\n",
    "new_recipe = new_recipe_builder(dl_test_url, 'delish')\n",
    "\n",
    "for key, val, in new_recipe.items():\n",
    "    print(key, val)"
   ]
  },
  {
   "cell_type": "code",
   "execution_count": 28,
   "metadata": {
    "ExecuteTime": {
     "end_time": "2020-07-12T03:17:50.692708Z",
     "start_time": "2020-07-12T03:16:47.193138Z"
    }
   },
   "outputs": [
    {
     "name": "stdout",
     "output_type": "stream",
     "text": [
      "name Spinach and Ricotta Vegetarian Meatballs\n",
      "url https://www.macheesmo.com/meatless-meatballs/\n",
      "ingredients ['1 Cup ricotta cheese\\r', '1 Cup Parmesan cheese, grated\\r', '1 Cup fresh spinach, chopped\\r', '1 1/2-2 Cups Italian breadcrumbs (plus some for rolling)\\r', '4 Eggs\\r', '1 Tablespoon fresh oregano\\r', 'Salt and pepper\\r', 'Olive oil\\r', 'Sauce:\\r', '1 28 ounce can diced tomatoes\\r', '1 small onion, diced\\r', '4 cloves garlic, minced\\r', '1 Tablespoon fresh oregano\\r', '2 Tablespoons olive oil\\r', '2 Tablespoons balsamic vinegar\\r', 'Pinch of salt and pepper\\r', 'Pinch of red pepper flakes (opt.)\\r', '1 pound pasta (I like whole wheat spaghetti.)\\r']\n",
      "instructions ['1) Mix cheeses together with chopped spinach, oregano, and salt and pepper.\\xa0 Add breadcrumbs and eggs.\\xa0 Try not to add too many breadcrumbs.', '2) Mix together lightly.\\xa0 Then form Tablespoon-sized balls with the mixture.\\xa0 Roll them lightly into a ball, coat them with some breadcrumbs, and set on a baking sheet.', '3) To pan-fry veggieballs:\\xa0 Add a few Tablespoons of oil into a large skillet.\\xa0 Over medium-high heat, cook the balls turning occasionally until they are browned on all sides.', '4) To bake veggiesballs: Add balls to a baking sheet lined with foil.\\xa0 Drizzle all balls with a bit of oil and bake at 375 degrees for 30-40 minutes turning every 10-15 minutes until they are lightly browned all around.', '5) For sauce, add a drizzle of oil to a large pot over medium-high heat.\\xa0 Add onion and cook for a few minutes.\\xa0 Then add garlic and tomatoes.\\xa0 Stir in spices and balsamic vinegar and simmer for 20 minutes, stirring occasionally.\\xa0 Add more water as it gets thick.', '6) Before serving, add balls to the sauce and serve over pasta with extra Parm and chopped parsley.']\n",
      "yeild Serves 4.\n",
      "chef Nick\n",
      "cuisine \n",
      "method \n"
     ]
    }
   ],
   "source": [
    "# Macheesmo\n",
    "url = ''\n",
    "new_recipe = new_recipe_builder(mc_test_url, 'macheesemo')\n",
    "\n",
    "for key, val, in new_recipe.items():\n",
    "    print(key, val)"
   ]
  },
  {
   "cell_type": "markdown",
   "metadata": {},
   "source": [
    "## Food Network"
   ]
  },
  {
   "cell_type": "code",
   "execution_count": 5,
   "metadata": {
    "ExecuteTime": {
     "end_time": "2020-06-13T18:56:09.312845Z",
     "start_time": "2020-06-13T18:56:09.299855Z"
    }
   },
   "outputs": [],
   "source": [
    "def new_fn_recipe(url=''):\n",
    "    \"\"\"Build new recipe dictionary from compatiable URL\"\"\"\n",
    "    if url == '':\n",
    "        url = input('Enter recipe URL: ')\n",
    "    res = requests.get(url)\n",
    "    soup = BeautifulSoup(res.text, 'html.parser')\n",
    "    data = json.loads(soup.find('script', type='application/ld+json').text)\n",
    "    recipe_data = data[0]\n",
    "\n",
    "    # Set recipe items\n",
    "    new_recipe = {}\n",
    "    new_recipe['name'] = recipe_data['name']\n",
    "    new_recipe['url'] = recipe_data['url']\n",
    "    # Food Network chef\n",
    "    new_recipe['chef'] = recipe_data['author'][0]['name']\n",
    "    new_recipe['ingredients'] = recipe_data['recipeIngredient']\n",
    "    new_recipe['instructions'] = recipe_data['recipeInstructions']\n",
    "    new_recipe['yeild'] = recipe_data['recipeYield']\n",
    "    # Set dish type\n",
    "    if recipe_data['recipeCategory'] in dish_refs.keys():\n",
    "        new_recipe['dish'] = dish_refs[recipe_data['recipeCategory']]\n",
    "    # Set cusine\n",
    "    for cuisine_var, cuisine_std in cuisine_refs.items():\n",
    "        if cuisine_var in new_recipe['name'].lower():\n",
    "            new_recipe['cuisine'] = cuisine_std\n",
    "            break\n",
    "    else:\n",
    "        new_recipe['cuisine'] = ''\n",
    "    # Set method\n",
    "    for method_var, method_std in method_refs.items():\n",
    "        if method_var in new_recipe['name'].lower():\n",
    "            new_recipe['method'] = method_std\n",
    "            break\n",
    "    else:\n",
    "        new_recipe['method'] = ''\n",
    "        \n",
    "    return(new_recipe)"
   ]
  },
  {
   "cell_type": "code",
   "execution_count": 6,
   "metadata": {
    "ExecuteTime": {
     "end_time": "2020-06-13T19:00:44.869112Z",
     "start_time": "2020-06-13T19:00:44.379503Z"
    }
   },
   "outputs": [],
   "source": [
    "url = 'https://www.foodnetwork.com/recipes/ina-garten/tuscan-lemon-chicken-recipe-1943286'\n",
    "recipe = new_fn_recipe(url)\n"
   ]
  },
  {
   "cell_type": "code",
   "execution_count": null,
   "metadata": {
    "ExecuteTime": {
     "end_time": "2020-06-10T02:19:44.403883Z",
     "start_time": "2020-06-10T02:19:43.774Z"
    }
   },
   "outputs": [],
   "source": [
    "recipe"
   ]
  },
  {
   "cell_type": "code",
   "execution_count": 7,
   "metadata": {
    "ExecuteTime": {
     "end_time": "2020-06-13T19:00:55.831450Z",
     "start_time": "2020-06-13T19:00:55.018339Z"
    }
   },
   "outputs": [
    {
     "ename": "KeyError",
     "evalue": "0",
     "output_type": "error",
     "traceback": [
      "\u001b[1;31m---------------------------------------------------------------------------\u001b[0m",
      "\u001b[1;31mKeyError\u001b[0m                                  Traceback (most recent call last)",
      "\u001b[1;32m<ipython-input-7-717ae8fc14ec>\u001b[0m in \u001b[0;36m<module>\u001b[1;34m\u001b[0m\n\u001b[0;32m      1\u001b[0m \u001b[0murl\u001b[0m \u001b[1;33m=\u001b[0m \u001b[1;34m'https://www.bonappetit.com/recipe/grilled-garlic-and-black-pepper-shrimp'\u001b[0m\u001b[1;33m\u001b[0m\u001b[1;33m\u001b[0m\u001b[0m\n\u001b[1;32m----> 2\u001b[1;33m \u001b[0mrecipe\u001b[0m \u001b[1;33m=\u001b[0m \u001b[0mnew_fn_recipe\u001b[0m\u001b[1;33m(\u001b[0m\u001b[0murl\u001b[0m\u001b[1;33m)\u001b[0m\u001b[1;33m\u001b[0m\u001b[1;33m\u001b[0m\u001b[0m\n\u001b[0m",
      "\u001b[1;32m<ipython-input-5-41b883cfb233>\u001b[0m in \u001b[0;36mnew_fn_recipe\u001b[1;34m(url)\u001b[0m\n\u001b[0;32m      6\u001b[0m     \u001b[0msoup\u001b[0m \u001b[1;33m=\u001b[0m \u001b[0mBeautifulSoup\u001b[0m\u001b[1;33m(\u001b[0m\u001b[0mres\u001b[0m\u001b[1;33m.\u001b[0m\u001b[0mtext\u001b[0m\u001b[1;33m,\u001b[0m \u001b[1;34m'html.parser'\u001b[0m\u001b[1;33m)\u001b[0m\u001b[1;33m\u001b[0m\u001b[1;33m\u001b[0m\u001b[0m\n\u001b[0;32m      7\u001b[0m     \u001b[0mdata\u001b[0m \u001b[1;33m=\u001b[0m \u001b[0mjson\u001b[0m\u001b[1;33m.\u001b[0m\u001b[0mloads\u001b[0m\u001b[1;33m(\u001b[0m\u001b[0msoup\u001b[0m\u001b[1;33m.\u001b[0m\u001b[0mfind\u001b[0m\u001b[1;33m(\u001b[0m\u001b[1;34m'script'\u001b[0m\u001b[1;33m,\u001b[0m \u001b[0mtype\u001b[0m\u001b[1;33m=\u001b[0m\u001b[1;34m'application/ld+json'\u001b[0m\u001b[1;33m)\u001b[0m\u001b[1;33m.\u001b[0m\u001b[0mtext\u001b[0m\u001b[1;33m)\u001b[0m\u001b[1;33m\u001b[0m\u001b[1;33m\u001b[0m\u001b[0m\n\u001b[1;32m----> 8\u001b[1;33m     \u001b[0mrecipe_data\u001b[0m \u001b[1;33m=\u001b[0m \u001b[0mdata\u001b[0m\u001b[1;33m[\u001b[0m\u001b[1;36m0\u001b[0m\u001b[1;33m]\u001b[0m\u001b[1;33m\u001b[0m\u001b[1;33m\u001b[0m\u001b[0m\n\u001b[0m\u001b[0;32m      9\u001b[0m \u001b[1;33m\u001b[0m\u001b[0m\n\u001b[0;32m     10\u001b[0m     \u001b[1;31m# Set recipe items\u001b[0m\u001b[1;33m\u001b[0m\u001b[1;33m\u001b[0m\u001b[1;33m\u001b[0m\u001b[0m\n",
      "\u001b[1;31mKeyError\u001b[0m: 0"
     ]
    }
   ],
   "source": [
    "url = 'https://www.bonappetit.com/recipe/grilled-garlic-and-black-pepper-shrimp'\n",
    "recipe = new_fn_recipe(url)"
   ]
  },
  {
   "cell_type": "code",
   "execution_count": 39,
   "metadata": {
    "ExecuteTime": {
     "end_time": "2020-06-10T02:22:06.088955Z",
     "start_time": "2020-06-10T02:22:05.778646Z"
    }
   },
   "outputs": [],
   "source": [
    "url = 'https://www.bonappetit.com/recipe/grilled-garlic-and-black-pepper-shrimp'\n",
    "res = requests.get(url)\n",
    "soup = BeautifulSoup(res.text, 'html.parser')\n",
    "data = json.loads(soup.find('script', type='application/ld+json').text)\n",
    "recipe_data = data\n"
   ]
  },
  {
   "cell_type": "code",
   "execution_count": 40,
   "metadata": {
    "ExecuteTime": {
     "end_time": "2020-06-10T02:22:12.784384Z",
     "start_time": "2020-06-10T02:22:12.775390Z"
    }
   },
   "outputs": [
    {
     "data": {
      "text/plain": [
       "{'@context': 'http://schema.org',\n",
       " '@type': 'Recipe',\n",
       " 'name': 'Grilled Garlic-and-Black-Pepper Shrimp',\n",
       " 'image': 'https://assets.bonappetit.com/photos/5914d26754d3034466bd4c27/16:9/w_1000,c_limit/grilled-garlic-and-black-pepper-shrimp.jpg',\n",
       " 'author': {'@type': 'Person', 'name': ''},\n",
       " 'publisher': {'@type': 'Organization',\n",
       "  'name': 'Bon Appétit',\n",
       "  'logo': {'@type': 'ImageObject',\n",
       "   'url': 'https://www.bonappetit.com/images/logo-foodculture-tablet@1x.png',\n",
       "   'width': 322,\n",
       "   'height': 56}},\n",
       " 'datePublished': '2017-05-16T07:00:00.000-04:00',\n",
       " 'dateCreated': '2020-05-25T13:21:00.000-04:00',\n",
       " 'description': 'Salt, pepper, garlic, acid, and a bit of heat are all you need to punch up these easy shrimp skewers.',\n",
       " 'aggregateRating': {'@type': 'AggregateRating',\n",
       "  'ratingValue': '5',\n",
       "  'reviewCount': '2'},\n",
       " 'recipeYield': '4 servings',\n",
       " 'recipeIngredient': ['1 fresh red chile (such as Fresno), seeds removed, finely grated',\n",
       "  '3 garlic cloves, finely grated',\n",
       "  '1 tablespoon coarsely ground pepper',\n",
       "  '1 tablespoon fresh lime juice',\n",
       "  '2 tablespoons vegetable oil, plus more for grill',\n",
       "  '1 pound large shrimp, peeled, deveined',\n",
       "  'Kosher salt',\n",
       "  'Lime wedges and Kashmiri chili powder or paprika (for serving)',\n",
       "  'Four 8-inch-long metal skewers or bamboo skewers soaked 30 minutes in water'],\n",
       " 'recipeInstructions': [{'@type': 'HowToStep',\n",
       "   'text': 'Whisk chile, garlic, pepper, lime juice, and 2 Tbsp. oil in a large bowl. Add shrimp and toss to coat; season with salt. Thread shrimp onto sets of 2 skewers.'},\n",
       "  {'@type': 'HowToStep',\n",
       "   'text': 'Prepare a grill for medium-high heat; clean grates well, then oil. Grill shrimp, turning once, until cooked through and lightly charred, about 5 minutes total. Serve with lime wedges dipped in chili powder.'}],\n",
       " 'nutrition': 'Calories (kcal) 190 \\nFat (g) 7 \\nSaturated Fat (g) 1 \\nCholesterol (mg) 215  \\nCarbohydrates (g) 3 \\nDietary Fiber (g) 1  \\nTotal Sugars (g) 1 \\nProtein (g) 28 \\nSodium (mg) 130',\n",
       " 'calories': '190'}"
      ]
     },
     "execution_count": 40,
     "metadata": {},
     "output_type": "execute_result"
    }
   ],
   "source": [
    "recipe_data"
   ]
  },
  {
   "cell_type": "markdown",
   "metadata": {},
   "source": [
    "## Bon Appetit"
   ]
  },
  {
   "cell_type": "code",
   "execution_count": 6,
   "metadata": {
    "ExecuteTime": {
     "end_time": "2020-07-12T02:55:28.835751Z",
     "start_time": "2020-07-12T02:55:28.816762Z"
    }
   },
   "outputs": [],
   "source": [
    "def new_ba_recipe(url=''):\n",
    "    \"\"\"Build new recipe dictionary from compatiable URL\"\"\"\n",
    "    if url == '':\n",
    "        url = input('Enter recipe URL: ')\n",
    "    res = requests.get(url)\n",
    "    soup = BeautifulSoup(res.text, 'html.parser')\n",
    "    data = json.loads(soup.find('script', type='application/ld+json').text)\n",
    "    recipe_data = data\n",
    "    \n",
    "    # Set recipe items\n",
    "    new_recipe = {}\n",
    "    new_recipe['name'] = recipe_data['name']\n",
    "    new_recipe['url'] = url\n",
    "    new_recipe['chef'] = recipe_data['author']['name']\n",
    "    new_recipe['ingredients'] = recipe_data['recipeIngredient']\n",
    "    new_recipe['instructions'] = recipe_data['recipeInstructions']\n",
    "    new_recipe['yeild'] = recipe_data['recipeYield']\n",
    "    # Set dish type\n",
    "    if 'recipeCategory' in recipe_data.keys():\n",
    "        if recipe_data['recipeCategory'] in dish_refs.keys():\n",
    "            new_recipe['dish'] = dish_refs[recipe_data['recipeCategory']]\n",
    "        else:\n",
    "            new_recipe['dish'] = ''\n",
    "    else:\n",
    "        new_recipe['dish'] = ''\n",
    "    # Set cusine\n",
    "    for cuisine_var, cuisine_std in cuisine_refs.items():\n",
    "        if cuisine_var in new_recipe['name'].lower():\n",
    "            new_recipe['cuisine'] = cuisine_std\n",
    "            break\n",
    "    else:\n",
    "        new_recipe['cuisine'] = ''\n",
    "    # Set method\n",
    "    for method_var, method_std in method_refs.items():\n",
    "        if method_var in new_recipe['name'].lower():\n",
    "            new_recipe['method'] = method_std\n",
    "            break\n",
    "    else:\n",
    "        new_recipe['method'] = ''\n",
    "        \n",
    "    return(new_recipe)"
   ]
  },
  {
   "cell_type": "code",
   "execution_count": 12,
   "metadata": {
    "ExecuteTime": {
     "end_time": "2020-07-12T03:04:36.237395Z",
     "start_time": "2020-07-12T03:04:35.889608Z"
    }
   },
   "outputs": [
    {
     "name": "stdout",
     "output_type": "stream",
     "text": [
      "name Grilled Garlic-and-Black-Pepper Shrimp\n",
      "url https://www.bonappetit.com/recipe/grilled-garlic-and-black-pepper-shrimp\n",
      "chef \n",
      "ingredients ['1 fresh red chile (such as Fresno), seeds removed, finely grated', '3 garlic cloves, finely grated', '1 tablespoon coarsely ground pepper', '1 tablespoon fresh lime juice', '2 tablespoons vegetable oil, plus more for grill', '1 pound large shrimp, peeled, deveined', 'Kosher salt', 'Lime wedges and Kashmiri chili powder or paprika (for serving)', 'Four 8-inch-long metal skewers or bamboo skewers soaked 30 minutes in water']\n",
      "instructions [{'@type': 'HowToStep', 'text': 'Whisk chile, garlic, pepper, lime juice, and 2 Tbsp. oil in a large bowl. Add shrimp and toss to coat; season with salt. Thread shrimp onto sets of 2 skewers.'}, {'@type': 'HowToStep', 'text': 'Prepare a grill for medium-high heat; clean grates well, then oil. Grill shrimp, turning once, until cooked through and lightly charred, about 5 minutes total. Serve with lime wedges dipped in chili powder.'}]\n",
      "yeild 4 servings\n",
      "dish \n",
      "cuisine \n",
      "method grill\n"
     ]
    }
   ],
   "source": [
    "url = 'https://www.bonappetit.com/recipe/grilled-garlic-and-black-pepper-shrimp'\n",
    "recipe = new_ba_recipe(url)\n",
    "\n",
    "for key, val, in recipe.items():\n",
    "    print(key, val)"
   ]
  },
  {
   "cell_type": "code",
   "execution_count": 8,
   "metadata": {
    "ExecuteTime": {
     "end_time": "2020-07-12T02:59:05.402369Z",
     "start_time": "2020-07-12T02:59:05.099828Z"
    }
   },
   "outputs": [],
   "source": [
    "url = 'https://www.bonappetit.com/recipe/grilled-garlic-and-black-pepper-shrimp'\n",
    "res = requests.get(url)\n",
    "soup = BeautifulSoup(res.text, 'html.parser')\n",
    "data = json.loads(soup.find('script', type='application/ld+json').text)\n",
    "recipe_data = data"
   ]
  },
  {
   "cell_type": "code",
   "execution_count": 9,
   "metadata": {
    "ExecuteTime": {
     "end_time": "2020-07-12T02:59:05.996843Z",
     "start_time": "2020-07-12T02:59:05.981852Z"
    },
    "scrolled": false
   },
   "outputs": [
    {
     "data": {
      "text/plain": [
       "{'@context': 'http://schema.org',\n",
       " '@type': 'Recipe',\n",
       " 'name': 'Grilled Garlic-and-Black-Pepper Shrimp',\n",
       " 'image': 'https://assets.bonappetit.com/photos/5914d26754d3034466bd4c27/16:9/w_1000,c_limit/grilled-garlic-and-black-pepper-shrimp.jpg',\n",
       " 'author': {'@type': 'Person', 'name': ''},\n",
       " 'publisher': {'@type': 'Organization',\n",
       "  'name': 'Bon Appétit',\n",
       "  'logo': {'@type': 'ImageObject',\n",
       "   'url': 'https://www.bonappetit.com/images/logo-foodculture-tablet@1x.png',\n",
       "   'width': 322,\n",
       "   'height': 56}},\n",
       " 'datePublished': '2017-05-16T07:00:00.000-04:00',\n",
       " 'dateCreated': '2020-07-08T17:11:00.000-04:00',\n",
       " 'description': 'Salt, pepper, garlic, acid, and a bit of heat are all you need to punch up these easy shrimp skewers.',\n",
       " 'aggregateRating': {'@type': 'AggregateRating',\n",
       "  'ratingValue': '4.67',\n",
       "  'reviewCount': '3'},\n",
       " 'recipeYield': '4 servings',\n",
       " 'recipeIngredient': ['1 fresh red chile (such as Fresno), seeds removed, finely grated',\n",
       "  '3 garlic cloves, finely grated',\n",
       "  '1 tablespoon coarsely ground pepper',\n",
       "  '1 tablespoon fresh lime juice',\n",
       "  '2 tablespoons vegetable oil, plus more for grill',\n",
       "  '1 pound large shrimp, peeled, deveined',\n",
       "  'Kosher salt',\n",
       "  'Lime wedges and Kashmiri chili powder or paprika (for serving)',\n",
       "  'Four 8-inch-long metal skewers or bamboo skewers soaked 30 minutes in water'],\n",
       " 'recipeInstructions': [{'@type': 'HowToStep',\n",
       "   'text': 'Whisk chile, garlic, pepper, lime juice, and 2 Tbsp. oil in a large bowl. Add shrimp and toss to coat; season with salt. Thread shrimp onto sets of 2 skewers.'},\n",
       "  {'@type': 'HowToStep',\n",
       "   'text': 'Prepare a grill for medium-high heat; clean grates well, then oil. Grill shrimp, turning once, until cooked through and lightly charred, about 5 minutes total. Serve with lime wedges dipped in chili powder.'}],\n",
       " 'nutrition': 'Calories (kcal) 190 \\nFat (g) 7 \\nSaturated Fat (g) 1 \\nCholesterol (mg) 215  \\nCarbohydrates (g) 3 \\nDietary Fiber (g) 1  \\nTotal Sugars (g) 1 \\nProtein (g) 28 \\nSodium (mg) 130',\n",
       " 'calories': '190'}"
      ]
     },
     "execution_count": 9,
     "metadata": {},
     "output_type": "execute_result"
    }
   ],
   "source": [
    "recipe_data"
   ]
  },
  {
   "cell_type": "code",
   "execution_count": 11,
   "metadata": {
    "ExecuteTime": {
     "end_time": "2020-07-12T03:00:11.419635Z",
     "start_time": "2020-07-12T03:00:11.154799Z"
    }
   },
   "outputs": [
    {
     "name": "stdout",
     "output_type": "stream",
     "text": [
      "@context http://schema.org\n"
     ]
    },
    {
     "ename": "KeyError",
     "evalue": "'recipeCategory'",
     "output_type": "error",
     "traceback": [
      "\u001b[1;31m---------------------------------------------------------------------------\u001b[0m",
      "\u001b[1;31mKeyError\u001b[0m                                  Traceback (most recent call last)",
      "\u001b[1;32m<ipython-input-11-222e0b5b2d74>\u001b[0m in \u001b[0;36m<module>\u001b[1;34m\u001b[0m\n\u001b[0;32m      1\u001b[0m \u001b[1;32mfor\u001b[0m \u001b[0mk\u001b[0m\u001b[1;33m,\u001b[0m \u001b[0mv\u001b[0m \u001b[1;32min\u001b[0m \u001b[0mrecipe_data\u001b[0m\u001b[1;33m.\u001b[0m\u001b[0mitems\u001b[0m\u001b[1;33m(\u001b[0m\u001b[1;33m)\u001b[0m\u001b[1;33m:\u001b[0m\u001b[1;33m\u001b[0m\u001b[1;33m\u001b[0m\u001b[0m\n\u001b[0;32m      2\u001b[0m     \u001b[0mprint\u001b[0m\u001b[1;33m(\u001b[0m\u001b[0mk\u001b[0m\u001b[1;33m,\u001b[0m \u001b[0mv\u001b[0m\u001b[1;33m)\u001b[0m\u001b[1;33m\u001b[0m\u001b[1;33m\u001b[0m\u001b[0m\n\u001b[1;32m----> 3\u001b[1;33m     \u001b[0mrecipe_data\u001b[0m\u001b[1;33m[\u001b[0m\u001b[1;34m'recipeCategory'\u001b[0m\u001b[1;33m]\u001b[0m\u001b[1;33m\u001b[0m\u001b[1;33m\u001b[0m\u001b[0m\n\u001b[0m",
      "\u001b[1;31mKeyError\u001b[0m: 'recipeCategory'"
     ]
    }
   ],
   "source": [
    "for k, v in recipe_data.items():\n",
    "    print(k, v)\n",
    "    recipe_data['recipeCategory']"
   ]
  },
  {
   "cell_type": "code",
   "execution_count": 35,
   "metadata": {
    "ExecuteTime": {
     "end_time": "2020-07-12T02:51:16.276213Z",
     "start_time": "2020-07-12T02:51:16.265220Z"
    }
   },
   "outputs": [
    {
     "data": {
      "text/plain": [
       "{'@context': 'http://schema.org/',\n",
       " '@type': 'Recipe',\n",
       " 'name': 'Creamy Garlic Chicken',\n",
       " 'author': {'@type': 'Person', 'name': 'Natasha Bull'},\n",
       " 'description': 'This creamy garlic chicken recipe is the ultimate easy comfort food! Tender chicken breast smothered in a creamy garlic sauce is irresistible.',\n",
       " 'datePublished': '2018-12-04T05:00:06+00:00',\n",
       " 'image': ['https://www.saltandlavender.com/wp-content/uploads/2018/12/creamy-garlic-chicken-recipe-1.jpg',\n",
       "  'https://www.saltandlavender.com/wp-content/uploads/2018/12/creamy-garlic-chicken-recipe-1-500x500.jpg',\n",
       "  'https://www.saltandlavender.com/wp-content/uploads/2018/12/creamy-garlic-chicken-recipe-1-500x375.jpg',\n",
       "  'https://www.saltandlavender.com/wp-content/uploads/2018/12/creamy-garlic-chicken-recipe-1-480x270.jpg'],\n",
       " 'recipeYield': ['4'],\n",
       " 'prepTime': 'PT10M',\n",
       " 'cookTime': 'PT20M',\n",
       " 'totalTime': 'PT30M',\n",
       " 'recipeIngredient': ['2 large chicken breasts (cut in half lengthwise)',\n",
       "  'Flour (for dredging)',\n",
       "  '1 tablespoon olive oil',\n",
       "  '2 tablespoons butter (divided)',\n",
       "  '1 whole head garlic (cloves peeled)',\n",
       "  '1/2 cup chicken broth or stock',\n",
       "  '1/2 teaspoon lemon juice',\n",
       "  '1/4 teaspoon garlic powder',\n",
       "  '1 cup heavy/whipping cream',\n",
       "  'Salt &amp; pepper  (to taste)',\n",
       "  'Parsley (chopped (optional))'],\n",
       " 'recipeInstructions': [{'@type': 'HowToStep',\n",
       "   'text': 'Cut the chicken in half lengthwise so you have 4 smaller cutlets. Sprinkle them with some salt &amp; pepper and coat them in the flour.&nbsp;',\n",
       "   'name': 'Cut the chicken in half lengthwise so you have 4 smaller cutlets. Sprinkle them with some salt &amp; pepper and coat them in the flour.&nbsp;',\n",
       "   'url': 'https://www.saltandlavender.com/creamy-garlic-chicken/#wprm-recipe-22361-step-0-0'},\n",
       "  {'@type': 'HowToStep',\n",
       "   'text': \"Add the olive oil and 1 tbsp of the butter to a skillet over medium-high heat. Once the pan is hot, sauté the chicken for 4-5 minutes/side or until it's nice and golden. Take the chicken out of the pan and set it aside.\",\n",
       "   'name': \"Add the olive oil and 1 tbsp of the butter to a skillet over medium-high heat. Once the pan is hot, sauté the chicken for 4-5 minutes/side or until it's nice and golden. Take the chicken out of the pan and set it aside.\",\n",
       "   'url': 'https://www.saltandlavender.com/creamy-garlic-chicken/#wprm-recipe-22361-step-0-1'},\n",
       "  {'@type': 'HowToStep',\n",
       "   'text': \"Reduce the heat to medium (or even med-low if using cast iron), and add the rest of the butter to the pan. Let it melt and then add the garlic cloves. Cook them for 3-4 minutes, stirring often, until they're lightly browned on the outside.&nbsp;\",\n",
       "   'name': \"Reduce the heat to medium (or even med-low if using cast iron), and add the rest of the butter to the pan. Let it melt and then add the garlic cloves. Cook them for 3-4 minutes, stirring often, until they're lightly browned on the outside.&nbsp;\",\n",
       "   'url': 'https://www.saltandlavender.com/creamy-garlic-chicken/#wprm-recipe-22361-step-0-2'},\n",
       "  {'@type': 'HowToStep',\n",
       "   'text': 'Add the chicken broth, lemon juice, and garlic powder to the pan. Let it bubble for around 4 minutes or until the liquid is noticeably reduced.&nbsp;',\n",
       "   'name': 'Add the chicken broth, lemon juice, and garlic powder to the pan. Let it bubble for around 4 minutes or until the liquid is noticeably reduced.&nbsp;',\n",
       "   'url': 'https://www.saltandlavender.com/creamy-garlic-chicken/#wprm-recipe-22361-step-0-3'},\n",
       "  {'@type': 'HowToStep',\n",
       "   'text': 'Stir in the cream and add the chicken back into the pan. Let it cook for another 5 minutes or so, until the sauce is reduced and the chicken is cooked through. Serve with freshly chopped parsley if you wish.',\n",
       "   'name': 'Stir in the cream and add the chicken back into the pan. Let it cook for another 5 minutes or so, until the sauce is reduced and the chicken is cooked through. Serve with freshly chopped parsley if you wish.',\n",
       "   'url': 'https://www.saltandlavender.com/creamy-garlic-chicken/#wprm-recipe-22361-step-0-4'}],\n",
       " 'aggregateRating': {'@type': 'AggregateRating',\n",
       "  'ratingValue': '4.82',\n",
       "  'ratingCount': '192'},\n",
       " 'recipeCategory': ['Main Course'],\n",
       " 'recipeCuisine': ['American'],\n",
       " 'keywords': 'creamy garlic chicken recipe',\n",
       " '@id': 'https://www.saltandlavender.com/creamy-garlic-chicken/#recipe',\n",
       " 'isPartOf': {'@id': 'https://www.saltandlavender.com/creamy-garlic-chicken/#article'},\n",
       " 'mainEntityOfPage': 'https://www.saltandlavender.com/creamy-garlic-chicken/#webpage'}"
      ]
     },
     "execution_count": 35,
     "metadata": {},
     "output_type": "execute_result"
    }
   ],
   "source": [
    "recipe_data['@graph'][7]"
   ]
  },
  {
   "cell_type": "markdown",
   "metadata": {},
   "source": [
    "## Salt & Lavendar"
   ]
  },
  {
   "cell_type": "code",
   "execution_count": 34,
   "metadata": {
    "ExecuteTime": {
     "end_time": "2020-06-13T19:15:35.730392Z",
     "start_time": "2020-06-13T19:15:35.715397Z"
    }
   },
   "outputs": [],
   "source": [
    "def new_sl_recipe(url=''):\n",
    "    \"\"\"Build new recipe dictionary from compatiable URL\"\"\"\n",
    "    if url == '':\n",
    "        url = input('Enter recipe URL: ')\n",
    "    res = requests.get(url)\n",
    "    soup = BeautifulSoup(res.text, 'html.parser')\n",
    "    data = json.loads(soup.find('script', type='application/ld+json').text)\n",
    "    recipe_data = data['@graph'][7]\n",
    "    \n",
    "    # Set recipe items\n",
    "    new_recipe = {}\n",
    "    new_recipe['name'] = recipe_data['name']\n",
    "    new_recipe['url'] = url\n",
    "    new_recipe['chef'] = recipe_data['author']['name']\n",
    "    new_recipe['ingredients'] = recipe_data['recipeIngredient']\n",
    "    new_recipe['instructions'] = recipe_data['recipeInstructions']\n",
    "    new_recipe['yeild'] = recipe_data['recipeYield']\n",
    "    # Set dish type\n",
    "    if 'recipeCategory' in recipe_data.keys():\n",
    "        if recipe_data['recipeCategory'][0] in dish_refs.keys():\n",
    "            new_recipe['dish'] = dish_refs[recipe_data['recipeCategory']]\n",
    "        else:\n",
    "            new_recipe['dish'] = ''\n",
    "    else:\n",
    "        new_recipe['dish'] = ''\n",
    "    # Set cusine\n",
    "    for cuisine_var, cuisine_std in cuisine_refs.items():\n",
    "        if cuisine_var in new_recipe['name'].lower():\n",
    "            new_recipe['cuisine'] = cuisine_std\n",
    "            break\n",
    "    else:\n",
    "        new_recipe['cuisine'] = ''\n",
    "    # Set method\n",
    "    for method_var, method_std in method_refs.items():\n",
    "        if method_var in new_recipe['name'].lower():\n",
    "            new_recipe['method'] = method_std\n",
    "            break\n",
    "    else:\n",
    "        new_recipe['method'] = ''\n",
    "        \n",
    "    return(new_recipe)"
   ]
  },
  {
   "cell_type": "code",
   "execution_count": 35,
   "metadata": {
    "ExecuteTime": {
     "end_time": "2020-06-13T19:15:37.565358Z",
     "start_time": "2020-06-13T19:15:36.877780Z"
    }
   },
   "outputs": [],
   "source": [
    "url = 'https://www.saltandlavender.com/creamy-garlic-chicken/'\n",
    "recipe = new_sl_recipe(url)"
   ]
  },
  {
   "cell_type": "code",
   "execution_count": 40,
   "metadata": {
    "ExecuteTime": {
     "end_time": "2020-06-13T19:25:13.663702Z",
     "start_time": "2020-06-13T19:25:13.654707Z"
    }
   },
   "outputs": [
    {
     "data": {
      "text/plain": [
       "{'name': 'Creamy Garlic Chicken',\n",
       " 'url': 'https://www.saltandlavender.com/creamy-garlic-chicken/',\n",
       " 'chef': 'Natasha Bull',\n",
       " 'ingredients': ['2 large chicken breasts (cut in half lengthwise)',\n",
       "  'Flour (for dredging)',\n",
       "  '1 tablespoon olive oil',\n",
       "  '2 tablespoons butter (divided)',\n",
       "  '1 whole head garlic (cloves peeled)',\n",
       "  '1/2 cup chicken broth or stock',\n",
       "  '1/2 teaspoon lemon juice',\n",
       "  '1/4 teaspoon garlic powder',\n",
       "  '1 cup heavy/whipping cream',\n",
       "  'Salt &amp; pepper  (to taste)',\n",
       "  'Parsley (chopped (optional))'],\n",
       " 'instructions': [{'@type': 'HowToStep',\n",
       "   'text': 'Cut the chicken in half lengthwise so you have 4 smaller cutlets. Sprinkle them with some salt &amp; pepper and coat them in the flour.&nbsp;',\n",
       "   'name': 'Cut the chicken in half lengthwise so you have 4 smaller cutlets. Sprinkle them with some salt &amp; pepper and coat them in the flour.&nbsp;',\n",
       "   'url': 'https://www.saltandlavender.com/creamy-garlic-chicken/#wprm-recipe-22361-step-0-0'},\n",
       "  {'@type': 'HowToStep',\n",
       "   'text': \"Add the olive oil and 1 tbsp of the butter to a skillet over medium-high heat. Once the pan is hot, sauté the chicken for 4-5 minutes/side or until it's nice and golden. Take the chicken out of the pan and set it aside.\",\n",
       "   'name': \"Add the olive oil and 1 tbsp of the butter to a skillet over medium-high heat. Once the pan is hot, sauté the chicken for 4-5 minutes/side or until it's nice and golden. Take the chicken out of the pan and set it aside.\",\n",
       "   'url': 'https://www.saltandlavender.com/creamy-garlic-chicken/#wprm-recipe-22361-step-0-1'},\n",
       "  {'@type': 'HowToStep',\n",
       "   'text': \"Reduce the heat to medium (or even med-low if using cast iron), and add the rest of the butter to the pan. Let it melt and then add the garlic cloves. Cook them for 3-4 minutes, stirring often, until they're lightly browned on the outside.&nbsp;\",\n",
       "   'name': \"Reduce the heat to medium (or even med-low if using cast iron), and add the rest of the butter to the pan. Let it melt and then add the garlic cloves. Cook them for 3-4 minutes, stirring often, until they're lightly browned on the outside.&nbsp;\",\n",
       "   'url': 'https://www.saltandlavender.com/creamy-garlic-chicken/#wprm-recipe-22361-step-0-2'},\n",
       "  {'@type': 'HowToStep',\n",
       "   'text': 'Add the chicken broth, lemon juice, and garlic powder to the pan. Let it bubble for around 4 minutes or until the liquid is noticeably reduced.&nbsp;',\n",
       "   'name': 'Add the chicken broth, lemon juice, and garlic powder to the pan. Let it bubble for around 4 minutes or until the liquid is noticeably reduced.&nbsp;',\n",
       "   'url': 'https://www.saltandlavender.com/creamy-garlic-chicken/#wprm-recipe-22361-step-0-3'},\n",
       "  {'@type': 'HowToStep',\n",
       "   'text': 'Stir in the cream and add the chicken back into the pan. Let it cook for another 5 minutes or so, until the sauce is reduced and the chicken is cooked through. Serve with freshly chopped parsley if you wish.',\n",
       "   'name': 'Stir in the cream and add the chicken back into the pan. Let it cook for another 5 minutes or so, until the sauce is reduced and the chicken is cooked through. Serve with freshly chopped parsley if you wish.',\n",
       "   'url': 'https://www.saltandlavender.com/creamy-garlic-chicken/#wprm-recipe-22361-step-0-4'}],\n",
       " 'yeild': ['4'],\n",
       " 'dish': '',\n",
       " 'cuisine': '',\n",
       " 'method': ''}"
      ]
     },
     "execution_count": 40,
     "metadata": {},
     "output_type": "execute_result"
    }
   ],
   "source": [
    "recipe"
   ]
  },
  {
   "cell_type": "markdown",
   "metadata": {},
   "source": [
    "## Delish\n",
    "Test URL: https://www.delish.com/cooking/recipe-ideas/recipes/a46066/slow-cooker-garlic-parmesan-chicken-recipe/"
   ]
  },
  {
   "cell_type": "code",
   "execution_count": 45,
   "metadata": {
    "ExecuteTime": {
     "end_time": "2020-07-09T02:36:30.137708Z",
     "start_time": "2020-07-09T02:36:30.121714Z"
    }
   },
   "outputs": [],
   "source": [
    "def new_dl_recipe(url=''):\n",
    "    \"\"\"Build new recipe dictionary from compatiable URL\"\"\"\n",
    "    if url == '':\n",
    "        url = input('Enter recipe URL: ')\n",
    "    res = requests.get(url)\n",
    "    soup = BeautifulSoup(res.text, 'html.parser')\n",
    "    data = json.loads(soup.find('script', type='application/ld+json').text)\n",
    "    recipe_data = data\n",
    "    \n",
    "    # Set recipe items\n",
    "    new_recipe = {}\n",
    "    new_recipe['name'] = recipe_data['name']\n",
    "    new_recipe['url'] = url\n",
    "    new_recipe['chef'] = recipe_data['author']['name']\n",
    "    new_recipe['ingredients'] = recipe_data['recipeIngredient']\n",
    "    new_recipe['instructions'] = recipe_data['recipeInstructions']\n",
    "    new_recipe['yeild'] = recipe_data['recipeYield']\n",
    "    # Set dish type\n",
    "    if 'recipeCategory' in recipe_data.keys():\n",
    "        if recipe_data['recipeCategory'][0] in dish_refs.keys():\n",
    "            new_recipe['dish'] = dish_refs[recipe_data['recipeCategory']]\n",
    "        else:\n",
    "            new_recipe['dish'] = ''\n",
    "    else:\n",
    "        new_recipe['dish'] = ''\n",
    "    # Set cusine\n",
    "    for cuisine_var, cuisine_std in cuisine_refs.items():\n",
    "        if cuisine_var in new_recipe['name'].lower():\n",
    "            new_recipe['cuisine'] = cuisine_std\n",
    "            break\n",
    "    else:\n",
    "        new_recipe['cuisine'] = ''\n",
    "    # Set method\n",
    "    for method_var, method_std in method_refs.items():\n",
    "        if method_var in new_recipe['name'].lower():\n",
    "            new_recipe['method'] = method_std\n",
    "            break\n",
    "    else:\n",
    "        new_recipe['method'] = ''\n",
    "        \n",
    "    return(new_recipe)"
   ]
  },
  {
   "cell_type": "code",
   "execution_count": 47,
   "metadata": {
    "ExecuteTime": {
     "end_time": "2020-07-09T02:36:50.529708Z",
     "start_time": "2020-07-09T02:36:50.128217Z"
    }
   },
   "outputs": [
    {
     "name": "stdout",
     "output_type": "stream",
     "text": [
      "name Slow-Cooker Garlic-Parmesan Chicken\n",
      "url https://www.delish.com/cooking/recipe-ideas/recipes/a46066/slow-cooker-garlic-parmesan-chicken-recipe/\n",
      "chef Lindsay Funston\n",
      "ingredients ['3 tbsp. <p>extra-virgin olive oil, divided</p>', '2 lb. <p>bone-in, skin-on&nbsp;chicken thighs</p>', '<p>Kosher salt</p>', '<p>Freshly ground black pepper</p>', '1 lb. <p>baby red potatoes, quartered</p>', '2 tbsp. <p>butter, softened</p>', '5 <p>cloves garlic, chopped</p>', '2 tbsp. <p>fresh thyme</p>', '<p>Freshly chopped parsley</p>', '2 tbsp. <p>freshly grated Parmesan, plus more for serving</p>']\n",
      "instructions Garnish with Parmesan before serving.\n",
      "yeild 4 servings\n",
      "dish \n",
      "cuisine \n",
      "method crock-pot\n"
     ]
    }
   ],
   "source": [
    "url = 'https://www.delish.com/cooking/recipe-ideas/recipes/a46066/slow-cooker-garlic-parmesan-chicken-recipe/'\n",
    "new_recipe = new_dl_recipe(url)\n",
    "\n",
    "for key, val, in new_recipe.items():\n",
    "    print(key, val)"
   ]
  },
  {
   "cell_type": "code",
   "execution_count": 40,
   "metadata": {
    "ExecuteTime": {
     "end_time": "2020-07-09T02:33:08.258026Z",
     "start_time": "2020-07-09T02:33:07.959616Z"
    }
   },
   "outputs": [],
   "source": [
    "url = 'https://www.delish.com/cooking/recipe-ideas/recipes/a46066/slow-cooker-garlic-parmesan-chicken-recipe/'\n",
    "res = requests.get(url)\n",
    "soup = BeautifulSoup(res.text, 'html.parser')\n",
    "data = json.loads(soup.find('script', type='application/ld+json').text)\n",
    "#recipe_data = data[0]"
   ]
  },
  {
   "cell_type": "code",
   "execution_count": 43,
   "metadata": {
    "ExecuteTime": {
     "end_time": "2020-07-09T02:33:49.241154Z",
     "start_time": "2020-07-09T02:33:49.234161Z"
    }
   },
   "outputs": [
    {
     "name": "stdout",
     "output_type": "stream",
     "text": [
      "@graph\n",
      "@context\n",
      "url\n",
      "publisher\n",
      "@type\n",
      "author\n",
      "datePublished\n",
      "headline\n",
      "image\n",
      "mainEntityOfPage\n",
      "thumbnailUrl\n",
      "dateModified\n",
      "name\n",
      "prepTime\n",
      "cookTime\n",
      "totalTime\n",
      "recipeIngredient\n",
      "recipeInstructions\n",
      "video\n",
      "recipeCuisine\n",
      "aggregateRating\n",
      "review\n",
      "recipeCategory\n",
      "recipeYield\n",
      "description\n",
      "keywords\n"
     ]
    }
   ],
   "source": [
    "for key, val, in data.items():\n",
    "    print(key)"
   ]
  },
  {
   "cell_type": "code",
   "execution_count": 50,
   "metadata": {
    "ExecuteTime": {
     "end_time": "2020-07-09T02:40:14.467097Z",
     "start_time": "2020-07-09T02:40:14.459102Z"
    }
   },
   "outputs": [
    {
     "data": {
      "text/plain": [
       "'Want an easy slow-cooker chicken recipe? This Slow-Cooker Parmesan-Garlic Chicken from Delish.com is off the hook.'"
      ]
     },
     "execution_count": 50,
     "metadata": {},
     "output_type": "execute_result"
    }
   ],
   "source": [
    "data['description']"
   ]
  },
  {
   "cell_type": "markdown",
   "metadata": {},
   "source": [
    "## Macheesmo"
   ]
  },
  {
   "cell_type": "code",
   "execution_count": 76,
   "metadata": {
    "ExecuteTime": {
     "end_time": "2020-07-09T02:57:08.375543Z",
     "start_time": "2020-07-09T02:57:08.359555Z"
    }
   },
   "outputs": [],
   "source": [
    "def new_mo_recipe(url=''):\n",
    "    \"\"\"Build new recipe dictionary from compatiable URL\"\"\"\n",
    "    if url == '':\n",
    "        url = input('Enter recipe URL: ')\n",
    "    res = requests.get(url)\n",
    "    soup = BeautifulSoup(res.text, 'html.parser')\n",
    "    data = data = json.loads(soup.find_all('script', type='application/ld+json')[1].text)\n",
    "    recipe_data = data\n",
    "    \n",
    "    # Set recipe items\n",
    "    new_recipe = {}\n",
    "    new_recipe['name'] = recipe_data['name']\n",
    "    new_recipe['url'] = url\n",
    "    new_recipe['chef'] = recipe_data['author']['name']\n",
    "    new_recipe['ingredients'] = recipe_data['recipeIngredient']\n",
    "    new_recipe['instructions'] = recipe_data['recipeInstructions']\n",
    "    new_recipe['yeild'] = recipe_data['recipeYield']\n",
    "    # Set dish type\n",
    "    if 'recipeCategory' in recipe_data.keys():\n",
    "        if recipe_data['recipeCategory'] in dish_refs.keys():\n",
    "            new_recipe['dish'] = dish_refs[recipe_data['recipeCategory']]\n",
    "        else:\n",
    "            new_recipe['dish'] = ''\n",
    "    else:\n",
    "        new_recipe['dish'] = ''\n",
    "    # Set cusine\n",
    "    for cuisine_var, cuisine_std in cuisine_refs.items():\n",
    "        if cuisine_var in new_recipe['name'].lower():\n",
    "            new_recipe['cuisine'] = cuisine_std\n",
    "            break\n",
    "    else:\n",
    "        new_recipe['cuisine'] = ''\n",
    "    # Set method\n",
    "    for method_var, method_std in method_refs.items():\n",
    "        if method_var in new_recipe['name'].lower():\n",
    "            new_recipe['method'] = method_std\n",
    "            break\n",
    "    else:\n",
    "        new_recipe['method'] = ''\n",
    "        \n",
    "    return(new_recipe)"
   ]
  },
  {
   "cell_type": "code",
   "execution_count": 75,
   "metadata": {
    "ExecuteTime": {
     "end_time": "2020-07-09T02:56:06.490246Z",
     "start_time": "2020-07-09T02:56:05.962046Z"
    }
   },
   "outputs": [
    {
     "name": "stdout",
     "output_type": "stream",
     "text": [
      "name Spinach and Ricotta Vegetarian Meatballs\n",
      "url https://www.macheesmo.com/meatless-meatballs/\n",
      "chef Nick\n",
      "ingredients ['1 Cup ricotta cheese\\r', '1 Cup Parmesan cheese, grated\\r', '1 Cup fresh spinach, chopped\\r', '1 1/2-2 Cups Italian breadcrumbs (plus some for rolling)\\r', '4 Eggs\\r', '1 Tablespoon fresh oregano\\r', 'Salt and pepper\\r', 'Olive oil\\r', 'Sauce:\\r', '1 28 ounce can diced tomatoes\\r', '1 small onion, diced\\r', '4 cloves garlic, minced\\r', '1 Tablespoon fresh oregano\\r', '2 Tablespoons olive oil\\r', '2 Tablespoons balsamic vinegar\\r', 'Pinch of salt and pepper\\r', 'Pinch of red pepper flakes (opt.)\\r', '1 pound pasta (I like whole wheat spaghetti.)\\r']\n",
      "instructions ['1) Mix cheeses together with chopped spinach, oregano, and salt and pepper.\\xa0 Add breadcrumbs and eggs.\\xa0 Try not to add too many breadcrumbs.', '2) Mix together lightly.\\xa0 Then form Tablespoon-sized balls with the mixture.\\xa0 Roll them lightly into a ball, coat them with some breadcrumbs, and set on a baking sheet.', '3) To pan-fry veggieballs:\\xa0 Add a few Tablespoons of oil into a large skillet.\\xa0 Over medium-high heat, cook the balls turning occasionally until they are browned on all sides.', '4) To bake veggiesballs: Add balls to a baking sheet lined with foil.\\xa0 Drizzle all balls with a bit of oil and bake at 375 degrees for 30-40 minutes turning every 10-15 minutes until they are lightly browned all around.', '5) For sauce, add a drizzle of oil to a large pot over medium-high heat.\\xa0 Add onion and cook for a few minutes.\\xa0 Then add garlic and tomatoes.\\xa0 Stir in spices and balsamic vinegar and simmer for 20 minutes, stirring occasionally.\\xa0 Add more water as it gets thick.', '6) Before serving, add balls to the sauce and serve over pasta with extra Parm and chopped parsley.']\n",
      "yeild Serves 4.\n",
      "dish \n",
      "cuisine \n",
      "method \n"
     ]
    }
   ],
   "source": [
    "url = 'https://www.macheesmo.com/meatless-meatballs/'\n",
    "new_recipe = new_mo_recipe(url)\n",
    "\n",
    "for key, val, in new_recipe.items():\n",
    "    print(key, val)"
   ]
  },
  {
   "cell_type": "code",
   "execution_count": 69,
   "metadata": {
    "ExecuteTime": {
     "end_time": "2020-07-09T02:55:37.387269Z",
     "start_time": "2020-07-09T02:55:36.999009Z"
    }
   },
   "outputs": [],
   "source": [
    "url = 'https://www.macheesmo.com/meatless-meatballs/'\n",
    "res = requests.get(url)\n",
    "soup = BeautifulSoup(res.text, 'html.parser')\n",
    "data = json.loads(soup.find_all('script', type='application/ld+json')[1].text)"
   ]
  },
  {
   "cell_type": "code",
   "execution_count": 70,
   "metadata": {
    "ExecuteTime": {
     "end_time": "2020-07-09T02:55:37.486888Z",
     "start_time": "2020-07-09T02:55:37.479896Z"
    }
   },
   "outputs": [
    {
     "name": "stdout",
     "output_type": "stream",
     "text": [
      "@context\n",
      "@type\n",
      "mainEntityOfPage\n",
      "name\n",
      "datePublished\n",
      "author\n",
      "keywords\n",
      "recipeCategory\n",
      "recipeCuisine\n",
      "aggregateRating\n",
      "interactionCount\n",
      "recipeYield\n",
      "prepTime\n",
      "totalTime\n",
      "image\n",
      "description\n",
      "recipeIngredient\n",
      "recipeInstructions\n"
     ]
    }
   ],
   "source": [
    "for key, val, in data.items():\n",
    "    print(key)"
   ]
  },
  {
   "cell_type": "code",
   "execution_count": 73,
   "metadata": {
    "ExecuteTime": {
     "end_time": "2020-07-09T02:55:48.048970Z",
     "start_time": "2020-07-09T02:55:48.041977Z"
    }
   },
   "outputs": [
    {
     "data": {
      "text/plain": [
       "''"
      ]
     },
     "execution_count": 73,
     "metadata": {},
     "output_type": "execute_result"
    }
   ],
   "source": [
    "data['recipeCategory']"
   ]
  },
  {
   "cell_type": "markdown",
   "metadata": {},
   "source": [
    "# Implementation\n",
    "\n",
    "Interface to allow user to either:\n",
    "1. Find a Recipe\n",
    "2. Add a Recipe\n",
    "\n",
    "Detailed Options\n",
    "1. Find a Recipe\n",
    "    - Enter search terms for desired criteria\n",
    "        - Select desired criteria from list\n",
    "        - Enter search term(s)\n",
    "        - Conduct search\n",
    "    - View recipe matching search criteria\n",
    "    - Cycle through other matching recipes\n",
    "2. Add a Recipe\n",
    "    - Choose manual or URL entry\n",
    "        - Manual\n",
    "            - Prompt user for each item\n",
    "            - Add item to master recipe list\n",
    "        - URL entry\n",
    "            - Prompt user for URL\n",
    "            - Determine if URL is from known source\n",
    "                - If from known source\n",
    "                    - Collect data\n",
    "                    - Prompt user for any missing info\n",
    "                - If from unknown source\n",
    "                    - Prompt user to enter data manually or exit"
   ]
  },
  {
   "cell_type": "markdown",
   "metadata": {},
   "source": [
    "## Main Menu"
   ]
  },
  {
   "cell_type": "code",
   "execution_count": 33,
   "metadata": {
    "ExecuteTime": {
     "end_time": "2020-07-02T03:00:32.730349Z",
     "start_time": "2020-07-02T02:57:21.131153Z"
    }
   },
   "outputs": [
    {
     "name": "stdout",
     "output_type": "stream",
     "text": [
      "\n",
      "    ______              __   __  ___     __\n",
      "   / ____/__  ___  ____/ /  /  |/  /__  / /\n",
      "  / /_  / _ \\/ _ \\/ __  /  / /|_/ / _ \\/ / \n",
      " / __/ /  __/  __/ /_/ /  / /  / /  __/_/  \n",
      "/_/    \\___/\\___/\\__,_/  /_/  /_/\\___(_)   \n",
      "    \n",
      "\n",
      "Welcome to Feed Me!\n",
      "\n",
      "Your recipie picking solution when no one knows what they want!\n",
      "\n",
      "Enter 'find' to search for a recipe\n",
      "Enter 'add' to add a new recipie to the repository\n",
      "Enter 'q' to exit\n",
      "    \n",
      "Enter selection: find\n",
      "\n",
      "    ______              __   __  ___     __\n",
      "   / ____/__  ___  ____/ /  /  |/  /__  / /\n",
      "  / /_  / _ \\/ _ \\/ __  /  / /|_/ / _ \\/ / \n",
      " / __/ /  __/  __/ /_/ /  / /  / /  __/_/  \n",
      "/_/    \\___/\\___/\\__,_/  /_/  /_/\\___(_)   \n",
      "    \n",
      "Enter search term for each option. Leave blank and press enter to skip.\n",
      "1 - Name\n",
      "2 - Cuisine\n",
      "3 - Method\n",
      "4 - Dish\n",
      "5 - Season\n",
      "6 - Ingredients\n",
      "Enter search term for Name:\n",
      "\n",
      "Enter search term for Cuisine:\n",
      "\n",
      "Enter search term for Method:\n",
      "\n",
      "Enter search term for Dish:\n",
      "\n",
      "Enter search term for Season:\n",
      "winter\n",
      "Enter search term for Ingredients:\n",
      "\n",
      "\n",
      "    ______              __   __  ___     __\n",
      "   / ____/__  ___  ____/ /  /  |/  /__  / /\n",
      "  / /_  / _ \\/ _ \\/ __  /  / /|_/ / _ \\/ / \n",
      " / __/ /  __/  __/ /_/ /  / /  / /  __/_/  \n",
      "/_/    \\___/\\___/\\__,_/  /_/  /_/\\___(_)   \n",
      "    \n",
      "\n",
      "Crock Pot Roast\n",
      "Author - \n",
      "Yeild - 0\n",
      "\n",
      "Ingredients:\n",
      "Beef Roast\n",
      "Potatoes\n",
      "Carrots\n",
      "Stock\n",
      "Butter\n",
      "    \n",
      "Enter 'n' for the next recipe\n",
      "Enter 'q' to exit:\n",
      "n\n",
      "\n",
      "    ______              __   __  ___     __\n",
      "   / ____/__  ___  ____/ /  /  |/  /__  / /\n",
      "  / /_  / _ \\/ _ \\/ __  /  / /|_/ / _ \\/ / \n",
      " / __/ /  __/  __/ /_/ /  / /  / /  __/_/  \n",
      "/_/    \\___/\\___/\\__,_/  /_/  /_/\\___(_)   \n",
      "    \n",
      "\n",
      "    ______              __   __  ___     __\n",
      "   / ____/__  ___  ____/ /  /  |/  /__  / /\n",
      "  / /_  / _ \\/ _ \\/ __  /  / /|_/ / _ \\/ / \n",
      " / __/ /  __/  __/ /_/ /  / /  / /  __/_/  \n",
      "/_/    \\___/\\___/\\__,_/  /_/  /_/\\___(_)   \n",
      "    \n",
      "No other eligible recipes.\n",
      "Would you like to try again? (y/n): n\n",
      "\n",
      "    ______              __   __  ___     __\n",
      "   / ____/__  ___  ____/ /  /  |/  /__  / /\n",
      "  / /_  / _ \\/ _ \\/ __  /  / /|_/ / _ \\/ / \n",
      " / __/ /  __/  __/ /_/ /  / /  / /  __/_/  \n",
      "/_/    \\___/\\___/\\__,_/  /_/  /_/\\___(_)   \n",
      "    \n",
      "\n",
      "Welcome to Feed Me!\n",
      "\n",
      "Your recipie picking solution when no one knows what they want!\n",
      "\n",
      "Enter 'find' to search for a recipe\n",
      "Enter 'add' to add a new recipie to the repository\n",
      "Enter 'q' to exit\n",
      "    \n",
      "Enter selection: q\n",
      "Exiting\n"
     ]
    }
   ],
   "source": [
    "# Task options\n",
    "task_options = ['q', 'find', 'add']\n",
    "\n",
    "# Main Loop\n",
    "running = True\n",
    "while running is True:\n",
    "    # Screen reset\n",
    "    screen_reset()\n",
    "    \n",
    "    # Print main menu\n",
    "    print(\"\"\"\n",
    "Welcome to Feed Me!\n",
    "\n",
    "Your recipie picking solution for when no one knows what they want!\n",
    "\n",
    "Enter 'find' to search for a recipe\n",
    "Enter 'add' to add a new recipie to the repository\n",
    "Enter 'q' to exit\n",
    "    \"\"\")\n",
    "    \n",
    "    # User enter desired option\n",
    "    task = input('Enter selection: ').lower()\n",
    "    # Task selection loop\n",
    "    if task not in task_options:\n",
    "        task = input('Invalid entry. Re-Enter selection: ')\n",
    "    \n",
    "    # Exit\n",
    "    if task == 'q':\n",
    "        print('Exiting')\n",
    "        running = False\n",
    "        break\n",
    "    \n",
    "    # Find a Recipe\n",
    "    if task == 'find':\n",
    "        find_recipe(recipes)\n",
    "    \n",
    "    # Add a Recipe\n",
    "    if task == 'add':\n",
    "        add_recipe(recipes)"
   ]
  },
  {
   "cell_type": "markdown",
   "metadata": {},
   "source": [
    "## Add Recipe"
   ]
  },
  {
   "cell_type": "code",
   "execution_count": 30,
   "metadata": {
    "ExecuteTime": {
     "end_time": "2020-07-02T02:52:32.521182Z",
     "start_time": "2020-07-02T02:52:32.515185Z"
    }
   },
   "outputs": [],
   "source": [
    "def add_recipe():\n",
    "    # Set empty recipe\n",
    "    new_recipe = blank_recipe\n",
    "    \n",
    "    # Reset screen\n",
    "    screen_reset()\n",
    "    \n",
    "    # Determine method (url or manual)\n",
    "    method = input(\"Enter 'url' to add a recipie from a website\\nEnter 'manual' to add a recipe yourself:\\n\").lower()\n",
    "    # Task selection loop\n",
    "    if method not in ['url', 'manual']:\n",
    "        task = input('Invalid entry. Re-Enter selection: ')\n",
    "    \n",
    "    # Reset screen\n",
    "    screen_reset()\n",
    "    \n",
    "    # URL Processing\n",
    "    if method == 'url':\n",
    "        # Enter url\n",
    "        url = input('Enter url to add: ')\n",
    "    \n",
    "        # Identify source\n",
    "        source = recipe_source(url)\n",
    "        \n",
    "        # If unkown source revert to manual with option to exit\n",
    "        if source == 'unknown':\n",
    "            # Reset screen\n",
    "            screen_reset()\n",
    "            \n",
    "            print('Unkown source')\n",
    "            \n",
    "        else:\n",
    "            # If known source, set all possible fields\n",
    "            new_recipe = new_recipe_builder(url, source)\n",
    "    \n",
    "    # Manual/Incomplte URL\n",
    "    \n",
    "    # Prompt user to fill in blank fields\n",
    "    \n",
    "    # Add recipie to master list\n",
    "    \n",
    "    # Pickle new recipie list\n",
    "    \n",
    "    # Add another recipie check"
   ]
  },
  {
   "cell_type": "code",
   "execution_count": 37,
   "metadata": {
    "ExecuteTime": {
     "end_time": "2020-07-04T02:46:03.648703Z",
     "start_time": "2020-07-04T02:46:03.641707Z"
    }
   },
   "outputs": [
    {
     "name": "stdout",
     "output_type": "stream",
     "text": [
      "www.foodnetwork.com\n"
     ]
    }
   ],
   "source": [
    "url = 'https://www.foodnetwork.com/recipes'\n",
    "print(url.split('/')[2])"
   ]
  },
  {
   "cell_type": "markdown",
   "metadata": {},
   "source": [
    "## Find Recipe"
   ]
  },
  {
   "cell_type": "code",
   "execution_count": 28,
   "metadata": {
    "ExecuteTime": {
     "end_time": "2020-07-02T02:51:14.474148Z",
     "start_time": "2020-07-02T02:51:14.451162Z"
    }
   },
   "outputs": [],
   "source": [
    "def find_recipe(recipes):\n",
    "    search_fields = [\n",
    "        {'name': 'Name', 'term': 'none'},\n",
    "        {'name': 'Cuisine', 'term': 'none'},\n",
    "        {'name': 'Method', 'term': 'none'},\n",
    "        {'name': 'Dish', 'term': 'none'},\n",
    "        {'name': 'Season', 'term': 'none'},\n",
    "        {'name': 'Ingredients', 'term': 'none'},\n",
    "    ]\n",
    "    \n",
    "    end_message = 'Undefined error.'\n",
    "    \n",
    "    # Reset screen\n",
    "    screen_reset()\n",
    "\n",
    "    # Describe search options\n",
    "    print('Enter search term for each option. Leave blank and press enter to skip.')\n",
    "    \n",
    "    # Select search fields\n",
    "    for idx, field in enumerate(search_fields, start=1):\n",
    "        print(f\"{idx} - {field['name']}\")\n",
    "    \n",
    "    # Enter search criteria\n",
    "    for field in search_fields:\n",
    "        field['term'] = input(f\"Enter search term for {field['name']}:\\n\")\n",
    "        if field['term'] == '':\n",
    "            field['term'] = 'none'\n",
    "    \n",
    "    # Conduct search\n",
    "    eligible_recipies = get_matching_recipes(\n",
    "        recipes,\n",
    "        search_fields[0]['term'],\n",
    "        search_fields[1]['term'],\n",
    "        search_fields[2]['term'],\n",
    "        search_fields[3]['term'],\n",
    "        search_fields[4]['term'],\n",
    "        [search_fields[5]['term']],\n",
    "    )\n",
    "    \n",
    "    # Any result check\n",
    "    if len(eligible_recipies) == 0:\n",
    "        end_message = 'No Recipes Found'\n",
    "        match_review = False\n",
    "    else:\n",
    "        match_review = True\n",
    "    \n",
    "    # Display results\n",
    "    while match_review is True:\n",
    "        # Reset screen\n",
    "        screen_reset()\n",
    "    \n",
    "        # Randomly select recipe option\n",
    "        recipe_option = random.choice(eligible_recipies)\n",
    "        \n",
    "        # Remove option from eligible recipes\n",
    "        eligible_recipies.remove(recipe_option)\n",
    "        \n",
    "        # Display option\n",
    "        display_recipe(recipe_option)\n",
    "        \n",
    "        # Prompt for next result or exit\n",
    "        selection = input(\"Enter 'n' for the next recipe\\nEnter 'q' to exit:\\n\")\n",
    "        while selection not in ['n', 'q']:\n",
    "            selection = input(\"Enter 'n' for the next recipe\\nEnter 'q' to exit:\\n\")\n",
    "            \n",
    "        if selection == 'q':\n",
    "            match_review = False\n",
    "            end_message = 'Search Ended'\n",
    "            break\n",
    "            \n",
    "        if len(eligible_recipies) == 0:\n",
    "            # Reset screen\n",
    "            screen_reset()\n",
    "            # No more recipes message\n",
    "            end_message = 'No other eligible recipes.'\n",
    "            match_review = False\n",
    "            break\n",
    "    \n",
    "    # Reset screen\n",
    "    screen_reset()\n",
    "    \n",
    "    # Print end message\n",
    "    print(end_message)\n",
    "    \n",
    "    # Search again check\n",
    "    search_again = input('Would you like to try again? (y/n): ')\n",
    "    while search_again.lower() not in ['y', 'n']:\n",
    "        search_again = input('Would you like to try again? (y/n): ')\n",
    "        \n",
    "    if search_again.lower() == 'y':\n",
    "        find_recipe()"
   ]
  },
  {
   "cell_type": "code",
   "execution_count": 29,
   "metadata": {
    "ExecuteTime": {
     "end_time": "2020-07-02T02:51:30.928352Z",
     "start_time": "2020-07-02T02:51:15.987732Z"
    }
   },
   "outputs": [
    {
     "name": "stdout",
     "output_type": "stream",
     "text": [
      "\n",
      "    ______              __   __  ___     __\n",
      "   / ____/__  ___  ____/ /  /  |/  /__  / /\n",
      "  / /_  / _ \\/ _ \\/ __  /  / /|_/ / _ \\/ / \n",
      " / __/ /  __/  __/ /_/ /  / /  / /  __/_/  \n",
      "/_/    \\___/\\___/\\__,_/  /_/  /_/\\___(_)   \n",
      "    \n",
      "Enter search term for each option. Leave blank and press enter to skip.\n",
      "1 - Name\n",
      "2 - Cuisine\n",
      "3 - Method\n",
      "4 - Dish\n",
      "5 - Season\n",
      "6 - Ingredients\n",
      "Enter search term for Name:\n",
      "grilled\n",
      "Enter search term for Cuisine:\n",
      "\n",
      "Enter search term for Method:\n",
      "\n",
      "Enter search term for Dish:\n",
      "\n",
      "Enter search term for Season:\n",
      "\n",
      "Enter search term for Ingredients:\n",
      "\n",
      "\n",
      "    ______              __   __  ___     __\n",
      "   / ____/__  ___  ____/ /  /  |/  /__  / /\n",
      "  / /_  / _ \\/ _ \\/ __  /  / /|_/ / _ \\/ / \n",
      " / __/ /  __/  __/ /_/ /  / /  / /  __/_/  \n",
      "/_/    \\___/\\___/\\__,_/  /_/  /_/\\___(_)   \n",
      "    \n",
      "\n",
      "Grilled Steak\n",
      "Author - \n",
      "Yeild - 0\n",
      "\n",
      "Ingredients:\n",
      "Steak\n",
      "    \n",
      "Enter 'n' for the next recipe\n",
      "Enter 'q' to exit:\n",
      "q\n",
      "\n",
      "    ______              __   __  ___     __\n",
      "   / ____/__  ___  ____/ /  /  |/  /__  / /\n",
      "  / /_  / _ \\/ _ \\/ __  /  / /|_/ / _ \\/ / \n",
      " / __/ /  __/  __/ /_/ /  / /  / /  __/_/  \n",
      "/_/    \\___/\\___/\\__,_/  /_/  /_/\\___(_)   \n",
      "    \n",
      "Search Ended\n",
      "Would you like to try again? (y/n): n\n"
     ]
    }
   ],
   "source": [
    "find_recipe()"
   ]
  }
 ],
 "metadata": {
  "kernelspec": {
   "display_name": "Python 3",
   "language": "python",
   "name": "python3"
  },
  "language_info": {
   "codemirror_mode": {
    "name": "ipython",
    "version": 3
   },
   "file_extension": ".py",
   "mimetype": "text/x-python",
   "name": "python",
   "nbconvert_exporter": "python",
   "pygments_lexer": "ipython3",
   "version": "3.7.3"
  },
  "toc": {
   "base_numbering": 1,
   "nav_menu": {},
   "number_sections": true,
   "sideBar": true,
   "skip_h1_title": false,
   "title_cell": "Table of Contents",
   "title_sidebar": "Contents",
   "toc_cell": false,
   "toc_position": {
    "height": "calc(100% - 180px)",
    "left": "10px",
    "top": "150px",
    "width": "165px"
   },
   "toc_section_display": true,
   "toc_window_display": true
  }
 },
 "nbformat": 4,
 "nbformat_minor": 2
}
